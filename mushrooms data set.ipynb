{
 "cells": [
  {
   "cell_type": "markdown",
   "metadata": {
    "id": "KEopFt4kmXk6"
   },
   "source": [
    "# Importing basic libraries and defining functions"
   ]
  },
  {
   "cell_type": "code",
   "execution_count": 1,
   "metadata": {
    "id": "F5TDC6MPMV9d"
   },
   "outputs": [],
   "source": [
    "import numpy as np\n",
    "import seaborn as sns\n",
    "import matplotlib.pyplot as plt\n",
    "import pandas as pd\n",
    "\n",
    "from timeit import default_timer\n",
    "\n",
    "from sklearn.tree import DecisionTreeClassifier\n",
    "from sklearn.ensemble import RandomForestClassifier\n",
    "from sklearn.neighbors import KNeighborsClassifier as KNN\n",
    "from sklearn.linear_model import LogisticRegression\n",
    "from sklearn.svm import SVC\n",
    "\n",
    "from sklearn.model_selection import train_test_split\n",
    "from sklearn.preprocessing import LabelEncoder\n",
    "from sklearn.metrics import confusion_matrix,accuracy_score\n",
    "from sklearn.model_selection import cross_val_score\n",
    "from sklearn.feature_selection import SelectFromModel\n",
    "from sklearn.model_selection import GridSearchCV\n",
    "\n"
   ]
  },
  {
   "cell_type": "code",
   "execution_count": null,
   "metadata": {
    "id": "_lmHb9lC8d9V"
   },
   "outputs": [],
   "source": [
    "def score(classifier,X_train,y_train,X_test,y_test):\n",
    "        start = default_timer()\n",
    "        print(\"Results for training set:\")\n",
    "        print('Accuracy Score: {0:.4f}\\n'.format(accuracy_score(y_train,classifier.predict(X_train))))\n",
    "        print('Confusion Matrix:\\n{}\\n'.format(confusion_matrix(y_train,classifier.predict(X_train))))\n",
    "        scores = cross_val_score(estimator=classifier, X=X_train, y=y_train, cv=10, n_jobs=1)\n",
    "        print('CV accuracy scores: %s' % scores)\n",
    "        print('CV accuracy: %.3f +/- %.3f' % (np.mean(scores),np.std(scores)))\n",
    "        print(\"\\nResults for testing set:\")\n",
    "        print('Accuracy Score: {0:.4f}\\n'.format(accuracy_score(y_test,classifier.predict(X_test))))\n",
    "        print('Confusion Matrix:\\n{}\\n'.format(confusion_matrix(y_test,classifier.predict(X_test))))\n",
    "        end = default_timer()\n",
    "        print(end - start)"
   ]
  },
  {
   "cell_type": "markdown",
   "metadata": {
    "id": "lRVpccYzFho5"
   },
   "source": [
    "# EDA"
   ]
  },
  {
   "cell_type": "code",
   "execution_count": 2,
   "metadata": {
    "id": "8BBl7N6rMpjm"
   },
   "outputs": [],
   "source": [
    "df = pd.read_csv('mushrooms.csv')"
   ]
  },
  {
   "cell_type": "code",
   "execution_count": null,
   "metadata": {
    "colab": {
     "base_uri": "https://localhost:8080/",
     "height": 240
    },
    "id": "pOg6AovFNb3K",
    "outputId": "f524ec9e-c3c7-4817-9e4a-bcf4185f332b"
   },
   "outputs": [
    {
     "data": {
      "text/html": [
       "<div>\n",
       "<style scoped>\n",
       "    .dataframe tbody tr th:only-of-type {\n",
       "        vertical-align: middle;\n",
       "    }\n",
       "\n",
       "    .dataframe tbody tr th {\n",
       "        vertical-align: top;\n",
       "    }\n",
       "\n",
       "    .dataframe thead th {\n",
       "        text-align: right;\n",
       "    }\n",
       "</style>\n",
       "<table border=\"1\" class=\"dataframe\">\n",
       "  <thead>\n",
       "    <tr style=\"text-align: right;\">\n",
       "      <th></th>\n",
       "      <th>class</th>\n",
       "      <th>cap-shape</th>\n",
       "      <th>cap-surface</th>\n",
       "      <th>cap-color</th>\n",
       "      <th>bruises</th>\n",
       "      <th>odor</th>\n",
       "      <th>gill-attachment</th>\n",
       "      <th>gill-spacing</th>\n",
       "      <th>gill-size</th>\n",
       "      <th>gill-color</th>\n",
       "      <th>stalk-shape</th>\n",
       "      <th>stalk-root</th>\n",
       "      <th>stalk-surface-above-ring</th>\n",
       "      <th>stalk-surface-below-ring</th>\n",
       "      <th>stalk-color-above-ring</th>\n",
       "      <th>stalk-color-below-ring</th>\n",
       "      <th>veil-type</th>\n",
       "      <th>veil-color</th>\n",
       "      <th>ring-number</th>\n",
       "      <th>ring-type</th>\n",
       "      <th>spore-print-color</th>\n",
       "      <th>population</th>\n",
       "      <th>habitat</th>\n",
       "    </tr>\n",
       "  </thead>\n",
       "  <tbody>\n",
       "    <tr>\n",
       "      <th>0</th>\n",
       "      <td>p</td>\n",
       "      <td>x</td>\n",
       "      <td>s</td>\n",
       "      <td>n</td>\n",
       "      <td>t</td>\n",
       "      <td>p</td>\n",
       "      <td>f</td>\n",
       "      <td>c</td>\n",
       "      <td>n</td>\n",
       "      <td>k</td>\n",
       "      <td>e</td>\n",
       "      <td>e</td>\n",
       "      <td>s</td>\n",
       "      <td>s</td>\n",
       "      <td>w</td>\n",
       "      <td>w</td>\n",
       "      <td>p</td>\n",
       "      <td>w</td>\n",
       "      <td>o</td>\n",
       "      <td>p</td>\n",
       "      <td>k</td>\n",
       "      <td>s</td>\n",
       "      <td>u</td>\n",
       "    </tr>\n",
       "    <tr>\n",
       "      <th>1</th>\n",
       "      <td>e</td>\n",
       "      <td>x</td>\n",
       "      <td>s</td>\n",
       "      <td>y</td>\n",
       "      <td>t</td>\n",
       "      <td>a</td>\n",
       "      <td>f</td>\n",
       "      <td>c</td>\n",
       "      <td>b</td>\n",
       "      <td>k</td>\n",
       "      <td>e</td>\n",
       "      <td>c</td>\n",
       "      <td>s</td>\n",
       "      <td>s</td>\n",
       "      <td>w</td>\n",
       "      <td>w</td>\n",
       "      <td>p</td>\n",
       "      <td>w</td>\n",
       "      <td>o</td>\n",
       "      <td>p</td>\n",
       "      <td>n</td>\n",
       "      <td>n</td>\n",
       "      <td>g</td>\n",
       "    </tr>\n",
       "    <tr>\n",
       "      <th>2</th>\n",
       "      <td>e</td>\n",
       "      <td>b</td>\n",
       "      <td>s</td>\n",
       "      <td>w</td>\n",
       "      <td>t</td>\n",
       "      <td>l</td>\n",
       "      <td>f</td>\n",
       "      <td>c</td>\n",
       "      <td>b</td>\n",
       "      <td>n</td>\n",
       "      <td>e</td>\n",
       "      <td>c</td>\n",
       "      <td>s</td>\n",
       "      <td>s</td>\n",
       "      <td>w</td>\n",
       "      <td>w</td>\n",
       "      <td>p</td>\n",
       "      <td>w</td>\n",
       "      <td>o</td>\n",
       "      <td>p</td>\n",
       "      <td>n</td>\n",
       "      <td>n</td>\n",
       "      <td>m</td>\n",
       "    </tr>\n",
       "    <tr>\n",
       "      <th>3</th>\n",
       "      <td>p</td>\n",
       "      <td>x</td>\n",
       "      <td>y</td>\n",
       "      <td>w</td>\n",
       "      <td>t</td>\n",
       "      <td>p</td>\n",
       "      <td>f</td>\n",
       "      <td>c</td>\n",
       "      <td>n</td>\n",
       "      <td>n</td>\n",
       "      <td>e</td>\n",
       "      <td>e</td>\n",
       "      <td>s</td>\n",
       "      <td>s</td>\n",
       "      <td>w</td>\n",
       "      <td>w</td>\n",
       "      <td>p</td>\n",
       "      <td>w</td>\n",
       "      <td>o</td>\n",
       "      <td>p</td>\n",
       "      <td>k</td>\n",
       "      <td>s</td>\n",
       "      <td>u</td>\n",
       "    </tr>\n",
       "    <tr>\n",
       "      <th>4</th>\n",
       "      <td>e</td>\n",
       "      <td>x</td>\n",
       "      <td>s</td>\n",
       "      <td>g</td>\n",
       "      <td>f</td>\n",
       "      <td>n</td>\n",
       "      <td>f</td>\n",
       "      <td>w</td>\n",
       "      <td>b</td>\n",
       "      <td>k</td>\n",
       "      <td>t</td>\n",
       "      <td>e</td>\n",
       "      <td>s</td>\n",
       "      <td>s</td>\n",
       "      <td>w</td>\n",
       "      <td>w</td>\n",
       "      <td>p</td>\n",
       "      <td>w</td>\n",
       "      <td>o</td>\n",
       "      <td>e</td>\n",
       "      <td>n</td>\n",
       "      <td>a</td>\n",
       "      <td>g</td>\n",
       "    </tr>\n",
       "  </tbody>\n",
       "</table>\n",
       "</div>"
      ],
      "text/plain": [
       "  class cap-shape cap-surface  ... spore-print-color population habitat\n",
       "0     p         x           s  ...                 k          s       u\n",
       "1     e         x           s  ...                 n          n       g\n",
       "2     e         b           s  ...                 n          n       m\n",
       "3     p         x           y  ...                 k          s       u\n",
       "4     e         x           s  ...                 n          a       g\n",
       "\n",
       "[5 rows x 23 columns]"
      ]
     },
     "execution_count": 5,
     "metadata": {
      "tags": []
     },
     "output_type": "execute_result"
    }
   ],
   "source": [
    "df.head()"
   ]
  },
  {
   "cell_type": "code",
   "execution_count": null,
   "metadata": {
    "colab": {
     "base_uri": "https://localhost:8080/",
     "height": 211
    },
    "id": "CafuQAxqN1Yy",
    "outputId": "64bc693f-3696-4e54-b4ac-0330683cde26"
   },
   "outputs": [
    {
     "data": {
      "text/html": [
       "<div>\n",
       "<style scoped>\n",
       "    .dataframe tbody tr th:only-of-type {\n",
       "        vertical-align: middle;\n",
       "    }\n",
       "\n",
       "    .dataframe tbody tr th {\n",
       "        vertical-align: top;\n",
       "    }\n",
       "\n",
       "    .dataframe thead th {\n",
       "        text-align: right;\n",
       "    }\n",
       "</style>\n",
       "<table border=\"1\" class=\"dataframe\">\n",
       "  <thead>\n",
       "    <tr style=\"text-align: right;\">\n",
       "      <th></th>\n",
       "      <th>class</th>\n",
       "      <th>cap-shape</th>\n",
       "      <th>cap-surface</th>\n",
       "      <th>cap-color</th>\n",
       "      <th>bruises</th>\n",
       "      <th>odor</th>\n",
       "      <th>gill-attachment</th>\n",
       "      <th>gill-spacing</th>\n",
       "      <th>gill-size</th>\n",
       "      <th>gill-color</th>\n",
       "      <th>stalk-shape</th>\n",
       "      <th>stalk-root</th>\n",
       "      <th>stalk-surface-above-ring</th>\n",
       "      <th>stalk-surface-below-ring</th>\n",
       "      <th>stalk-color-above-ring</th>\n",
       "      <th>stalk-color-below-ring</th>\n",
       "      <th>veil-type</th>\n",
       "      <th>veil-color</th>\n",
       "      <th>ring-number</th>\n",
       "      <th>ring-type</th>\n",
       "      <th>spore-print-color</th>\n",
       "      <th>population</th>\n",
       "      <th>habitat</th>\n",
       "    </tr>\n",
       "  </thead>\n",
       "  <tbody>\n",
       "    <tr>\n",
       "      <th>count</th>\n",
       "      <td>8124</td>\n",
       "      <td>8124</td>\n",
       "      <td>8124</td>\n",
       "      <td>8124</td>\n",
       "      <td>8124</td>\n",
       "      <td>8124</td>\n",
       "      <td>8124</td>\n",
       "      <td>8124</td>\n",
       "      <td>8124</td>\n",
       "      <td>8124</td>\n",
       "      <td>8124</td>\n",
       "      <td>8124</td>\n",
       "      <td>8124</td>\n",
       "      <td>8124</td>\n",
       "      <td>8124</td>\n",
       "      <td>8124</td>\n",
       "      <td>8124</td>\n",
       "      <td>8124</td>\n",
       "      <td>8124</td>\n",
       "      <td>8124</td>\n",
       "      <td>8124</td>\n",
       "      <td>8124</td>\n",
       "      <td>8124</td>\n",
       "    </tr>\n",
       "    <tr>\n",
       "      <th>unique</th>\n",
       "      <td>2</td>\n",
       "      <td>6</td>\n",
       "      <td>4</td>\n",
       "      <td>10</td>\n",
       "      <td>2</td>\n",
       "      <td>9</td>\n",
       "      <td>2</td>\n",
       "      <td>2</td>\n",
       "      <td>2</td>\n",
       "      <td>12</td>\n",
       "      <td>2</td>\n",
       "      <td>5</td>\n",
       "      <td>4</td>\n",
       "      <td>4</td>\n",
       "      <td>9</td>\n",
       "      <td>9</td>\n",
       "      <td>1</td>\n",
       "      <td>4</td>\n",
       "      <td>3</td>\n",
       "      <td>5</td>\n",
       "      <td>9</td>\n",
       "      <td>6</td>\n",
       "      <td>7</td>\n",
       "    </tr>\n",
       "    <tr>\n",
       "      <th>top</th>\n",
       "      <td>e</td>\n",
       "      <td>x</td>\n",
       "      <td>y</td>\n",
       "      <td>n</td>\n",
       "      <td>f</td>\n",
       "      <td>n</td>\n",
       "      <td>f</td>\n",
       "      <td>c</td>\n",
       "      <td>b</td>\n",
       "      <td>b</td>\n",
       "      <td>t</td>\n",
       "      <td>b</td>\n",
       "      <td>s</td>\n",
       "      <td>s</td>\n",
       "      <td>w</td>\n",
       "      <td>w</td>\n",
       "      <td>p</td>\n",
       "      <td>w</td>\n",
       "      <td>o</td>\n",
       "      <td>p</td>\n",
       "      <td>w</td>\n",
       "      <td>v</td>\n",
       "      <td>d</td>\n",
       "    </tr>\n",
       "    <tr>\n",
       "      <th>freq</th>\n",
       "      <td>4208</td>\n",
       "      <td>3656</td>\n",
       "      <td>3244</td>\n",
       "      <td>2284</td>\n",
       "      <td>4748</td>\n",
       "      <td>3528</td>\n",
       "      <td>7914</td>\n",
       "      <td>6812</td>\n",
       "      <td>5612</td>\n",
       "      <td>1728</td>\n",
       "      <td>4608</td>\n",
       "      <td>3776</td>\n",
       "      <td>5176</td>\n",
       "      <td>4936</td>\n",
       "      <td>4464</td>\n",
       "      <td>4384</td>\n",
       "      <td>8124</td>\n",
       "      <td>7924</td>\n",
       "      <td>7488</td>\n",
       "      <td>3968</td>\n",
       "      <td>2388</td>\n",
       "      <td>4040</td>\n",
       "      <td>3148</td>\n",
       "    </tr>\n",
       "  </tbody>\n",
       "</table>\n",
       "</div>"
      ],
      "text/plain": [
       "       class cap-shape cap-surface  ... spore-print-color population habitat\n",
       "count   8124      8124        8124  ...              8124       8124    8124\n",
       "unique     2         6           4  ...                 9          6       7\n",
       "top        e         x           y  ...                 w          v       d\n",
       "freq    4208      3656        3244  ...              2388       4040    3148\n",
       "\n",
       "[4 rows x 23 columns]"
      ]
     },
     "execution_count": 6,
     "metadata": {
      "tags": []
     },
     "output_type": "execute_result"
    }
   ],
   "source": [
    "df.describe()"
   ]
  },
  {
   "cell_type": "code",
   "execution_count": null,
   "metadata": {
    "colab": {
     "base_uri": "https://localhost:8080/",
     "height": 472
    },
    "id": "sf7Cso7uN3bC",
    "outputId": "14bbf34d-54e3-4828-b28f-b2cad1ec38fa"
   },
   "outputs": [
    {
     "name": "stdout",
     "output_type": "stream",
     "text": [
      "<class 'pandas.core.frame.DataFrame'>\n",
      "RangeIndex: 8124 entries, 0 to 8123\n",
      "Data columns (total 23 columns):\n",
      "class                       8124 non-null object\n",
      "cap-shape                   8124 non-null object\n",
      "cap-surface                 8124 non-null object\n",
      "cap-color                   8124 non-null object\n",
      "bruises                     8124 non-null object\n",
      "odor                        8124 non-null object\n",
      "gill-attachment             8124 non-null object\n",
      "gill-spacing                8124 non-null object\n",
      "gill-size                   8124 non-null object\n",
      "gill-color                  8124 non-null object\n",
      "stalk-shape                 8124 non-null object\n",
      "stalk-root                  8124 non-null object\n",
      "stalk-surface-above-ring    8124 non-null object\n",
      "stalk-surface-below-ring    8124 non-null object\n",
      "stalk-color-above-ring      8124 non-null object\n",
      "stalk-color-below-ring      8124 non-null object\n",
      "veil-type                   8124 non-null object\n",
      "veil-color                  8124 non-null object\n",
      "ring-number                 8124 non-null object\n",
      "ring-type                   8124 non-null object\n",
      "spore-print-color           8124 non-null object\n",
      "population                  8124 non-null object\n",
      "habitat                     8124 non-null object\n",
      "dtypes: object(23)\n",
      "memory usage: 1.4+ MB\n"
     ]
    }
   ],
   "source": [
    "df.info()"
   ]
  },
  {
   "cell_type": "code",
   "execution_count": null,
   "metadata": {
    "colab": {
     "base_uri": "https://localhost:8080/",
     "height": 131
    },
    "id": "NWm_EHhIN5P4",
    "outputId": "fc1249b4-2d1d-4a8d-9fd5-a5d314ef3ec8"
   },
   "outputs": [
    {
     "data": {
      "text/plain": [
       "Index(['class', 'cap-shape', 'cap-surface', 'cap-color', 'bruises', 'odor',\n",
       "       'gill-attachment', 'gill-spacing', 'gill-size', 'gill-color',\n",
       "       'stalk-shape', 'stalk-root', 'stalk-surface-above-ring',\n",
       "       'stalk-surface-below-ring', 'stalk-color-above-ring',\n",
       "       'stalk-color-below-ring', 'veil-type', 'veil-color', 'ring-number',\n",
       "       'ring-type', 'spore-print-color', 'population', 'habitat'],\n",
       "      dtype='object')"
      ]
     },
     "execution_count": 8,
     "metadata": {
      "tags": []
     },
     "output_type": "execute_result"
    }
   ],
   "source": [
    "df.columns"
   ]
  },
  {
   "cell_type": "code",
   "execution_count": null,
   "metadata": {
    "colab": {
     "base_uri": "https://localhost:8080/",
     "height": 1000
    },
    "id": "AN7pE0HXN_j4",
    "outputId": "bb5fdeae-eeef-4046-eae1-4e71ab902d06"
   },
   "outputs": [
    {
     "name": "stdout",
     "output_type": "stream",
     "text": [
      "class\n",
      "e    4208\n",
      "p    3916\n",
      "Name: class, dtype: int64 \n",
      "\n",
      "cap-shape\n",
      "x    3656\n",
      "f    3152\n",
      "k     828\n",
      "b     452\n",
      "s      32\n",
      "c       4\n",
      "Name: cap-shape, dtype: int64 \n",
      "\n",
      "cap-surface\n",
      "y    3244\n",
      "s    2556\n",
      "f    2320\n",
      "g       4\n",
      "Name: cap-surface, dtype: int64 \n",
      "\n",
      "cap-color\n",
      "n    2284\n",
      "g    1840\n",
      "e    1500\n",
      "y    1072\n",
      "w    1040\n",
      "b     168\n",
      "p     144\n",
      "c      44\n",
      "u      16\n",
      "r      16\n",
      "Name: cap-color, dtype: int64 \n",
      "\n",
      "bruises\n",
      "f    4748\n",
      "t    3376\n",
      "Name: bruises, dtype: int64 \n",
      "\n",
      "odor\n",
      "n    3528\n",
      "f    2160\n",
      "s     576\n",
      "y     576\n",
      "l     400\n",
      "a     400\n",
      "p     256\n",
      "c     192\n",
      "m      36\n",
      "Name: odor, dtype: int64 \n",
      "\n",
      "gill-attachment\n",
      "f    7914\n",
      "a     210\n",
      "Name: gill-attachment, dtype: int64 \n",
      "\n",
      "gill-spacing\n",
      "c    6812\n",
      "w    1312\n",
      "Name: gill-spacing, dtype: int64 \n",
      "\n",
      "gill-size\n",
      "b    5612\n",
      "n    2512\n",
      "Name: gill-size, dtype: int64 \n",
      "\n",
      "gill-color\n",
      "b    1728\n",
      "p    1492\n",
      "w    1202\n",
      "n    1048\n",
      "g     752\n",
      "h     732\n",
      "u     492\n",
      "k     408\n",
      "e      96\n",
      "y      86\n",
      "o      64\n",
      "r      24\n",
      "Name: gill-color, dtype: int64 \n",
      "\n",
      "stalk-shape\n",
      "t    4608\n",
      "e    3516\n",
      "Name: stalk-shape, dtype: int64 \n",
      "\n",
      "stalk-root\n",
      "b    3776\n",
      "?    2480\n",
      "e    1120\n",
      "c     556\n",
      "r     192\n",
      "Name: stalk-root, dtype: int64 \n",
      "\n",
      "stalk-surface-above-ring\n",
      "s    5176\n",
      "k    2372\n",
      "f     552\n",
      "y      24\n",
      "Name: stalk-surface-above-ring, dtype: int64 \n",
      "\n",
      "stalk-surface-below-ring\n",
      "s    4936\n",
      "k    2304\n",
      "f     600\n",
      "y     284\n",
      "Name: stalk-surface-below-ring, dtype: int64 \n",
      "\n",
      "stalk-color-above-ring\n",
      "w    4464\n",
      "p    1872\n",
      "g     576\n",
      "n     448\n",
      "b     432\n",
      "o     192\n",
      "e      96\n",
      "c      36\n",
      "y       8\n",
      "Name: stalk-color-above-ring, dtype: int64 \n",
      "\n",
      "stalk-color-below-ring\n",
      "w    4384\n",
      "p    1872\n",
      "g     576\n",
      "n     512\n",
      "b     432\n",
      "o     192\n",
      "e      96\n",
      "c      36\n",
      "y      24\n",
      "Name: stalk-color-below-ring, dtype: int64 \n",
      "\n",
      "veil-type\n",
      "p    8124\n",
      "Name: veil-type, dtype: int64 \n",
      "\n",
      "veil-color\n",
      "w    7924\n",
      "n      96\n",
      "o      96\n",
      "y       8\n",
      "Name: veil-color, dtype: int64 \n",
      "\n",
      "ring-number\n",
      "o    7488\n",
      "t     600\n",
      "n      36\n",
      "Name: ring-number, dtype: int64 \n",
      "\n",
      "ring-type\n",
      "p    3968\n",
      "e    2776\n",
      "l    1296\n",
      "f      48\n",
      "n      36\n",
      "Name: ring-type, dtype: int64 \n",
      "\n",
      "spore-print-color\n",
      "w    2388\n",
      "n    1968\n",
      "k    1872\n",
      "h    1632\n",
      "r      72\n",
      "u      48\n",
      "o      48\n",
      "b      48\n",
      "y      48\n",
      "Name: spore-print-color, dtype: int64 \n",
      "\n",
      "population\n",
      "v    4040\n",
      "y    1712\n",
      "s    1248\n",
      "n     400\n",
      "a     384\n",
      "c     340\n",
      "Name: population, dtype: int64 \n",
      "\n",
      "habitat\n",
      "d    3148\n",
      "g    2148\n",
      "p    1144\n",
      "l     832\n",
      "u     368\n",
      "m     292\n",
      "w     192\n",
      "Name: habitat, dtype: int64 \n",
      "\n"
     ]
    }
   ],
   "source": [
    "for x in df.columns:\n",
    "    print(x)\n",
    "    print(df[x].value_counts(),\"\\n\")"
   ]
  },
  {
   "cell_type": "markdown",
   "metadata": {
    "id": "VVoF67BxYgI1"
   },
   "source": [
    "It's worth noticing that even at this early stage of the project two of the features may already seem interesting for us. Firstly, the **veil-type** feature has only one value *'p'* for all the data points. It is clear that it will not affect our model anyhow, so the column should be simply dropped. "
   ]
  },
  {
   "cell_type": "code",
   "execution_count": null,
   "metadata": {
    "id": "sv-JQGwk6WNi"
   },
   "outputs": [],
   "source": [
    "df.drop(['veil-type'], axis=1, inplace=True)"
   ]
  },
  {
   "cell_type": "markdown",
   "metadata": {
    "id": "zym5kn5x7MD9"
   },
   "source": [
    "Second thing that is worth noticing is the *'?'* value in the **stalk-root** feature. Unlike the other values it is not a letter, but it's not a null value either. Taking into consideration the number of observations having this particular value (2480) dropping all of them or dropping the feature might turn out harmful for the performance of our models. To determine that we can investigate our dataset divided into two subsets: the first one, where df['stalk-root']==? and the second one, where df['stalk-root']!=?. "
   ]
  },
  {
   "cell_type": "code",
   "execution_count": null,
   "metadata": {
    "colab": {
     "base_uri": "https://localhost:8080/",
     "height": 1000
    },
    "id": "2RmoyFul6WAu",
    "outputId": "ca8a5e37-1c0c-4fa0-a061-3fd2eba520bf"
   },
   "outputs": [
    {
     "name": "stderr",
     "output_type": "stream",
     "text": [
      "/usr/local/lib/python3.6/dist-packages/ipykernel_launcher.py:4: RuntimeWarning: More than 20 figures have been opened. Figures created through the pyplot interface (`matplotlib.pyplot.figure`) are retained until explicitly closed and may consume too much memory. (To control this warning, see the rcParam `figure.max_open_warning`).\n",
      "  after removing the cwd from sys.path.\n"
     ]
    },
    {
     "data": {
      "image/png": "[encoded data removed]",
      "text/plain": [
       "<Figure size 432x288 with 2 Axes>"
      ]
     },
     "metadata": {
      "tags": []
     },
     "output_type": "display_data"
    },
    {
     "data": {
      "image/png": "[encoded data removed]",
      "text/plain": [
       "<Figure size 432x288 with 2 Axes>"
      ]
     },
     "metadata": {
      "tags": []
     },
     "output_type": "display_data"
    },
    {
     "data": {
      "image/png": "[encoded data removed]",
      "text/plain": [
       "<Figure size 432x288 with 2 Axes>"
      ]
     },
     "metadata": {
      "tags": []
     },
     "output_type": "display_data"
    },
    {
     "data": {
      "image/png": "[encoded data removed]",
      "text/plain": [
       "<Figure size 432x288 with 2 Axes>"
      ]
     },
     "metadata": {
      "tags": []
     },
     "output_type": "display_data"
    },
    {
     "data": {
      "image/png": "[encoded data removed]",
      "text/plain": [
       "<Figure size 432x288 with 2 Axes>"
      ]
     },
     "metadata": {
      "tags": []
     },
     "output_type": "display_data"
    },
    {
     "data": {
      "image/png": "[encoded data removed]",
      "text/plain": [
       "<Figure size 432x288 with 2 Axes>"
      ]
     },
     "metadata": {
      "tags": []
     },
     "output_type": "display_data"
    },
    {
     "data": {
      "image/png": "[encoded data removed]",
      "text/plain": [
       "<Figure size 432x288 with 2 Axes>"
      ]
     },
     "metadata": {
      "tags": []
     },
     "output_type": "display_data"
    },
    {
     "data": {
      "image/png": "[encoded data removed]",
      "text/plain": [
       "<Figure size 432x288 with 2 Axes>"
      ]
     },
     "metadata": {
      "tags": []
     },
     "output_type": "display_data"
    },
    {
     "data": {
      "image/png": "[encoded data removed]",
      "text/plain": [
       "<Figure size 432x288 with 2 Axes>"
      ]
     },
     "metadata": {
      "tags": []
     },
     "output_type": "display_data"
    },
    {
     "data": {
      "image/png": "[encoded data removed]",
      "text/plain": [
       "<Figure size 432x288 with 2 Axes>"
      ]
     },
     "metadata": {
      "tags": []
     },
     "output_type": "display_data"
    },
    {
     "data": {
      "image/png": "[encoded data removed]",
      "text/plain": [
       "<Figure size 432x288 with 2 Axes>"
      ]
     },
     "metadata": {
      "tags": []
     },
     "output_type": "display_data"
    },
    {
     "data": {
      "image/png": "[encoded data removed]",
      "text/plain": [
       "<Figure size 432x288 with 2 Axes>"
      ]
     },
     "metadata": {
      "tags": []
     },
     "output_type": "display_data"
    },
    {
     "data": {
      "image/png": "[encoded data removed]",
      "text/plain": [
       "<Figure size 432x288 with 2 Axes>"
      ]
     },
     "metadata": {
      "tags": []
     },
     "output_type": "display_data"
    },
    {
     "data": {
      "image/png": "[encoded data removed]",
      "text/plain": [
       "<Figure size 432x288 with 2 Axes>"
      ]
     },
     "metadata": {
      "tags": []
     },
     "output_type": "display_data"
    },
    {
     "data": {
      "image/png": "[encoded data removed]",
      "text/plain": [
       "<Figure size 432x288 with 2 Axes>"
      ]
     },
     "metadata": {
      "tags": []
     },
     "output_type": "display_data"
    },
    {
     "data": {
      "image/png": "[encoded data removed]",
      "text/plain": [
       "<Figure size 432x288 with 2 Axes>"
      ]
     },
     "metadata": {
      "tags": []
     },
     "output_type": "display_data"
    },
    {
     "data": {
      "image/png": "[encoded data removed]",
      "text/plain": [
       "<Figure size 432x288 with 2 Axes>"
      ]
     },
     "metadata": {
      "tags": []
     },
     "output_type": "display_data"
    },
    {
     "data": {
      "image/png": "[encoded data removed]",
      "text/plain": [
       "<Figure size 432x288 with 2 Axes>"
      ]
     },
     "metadata": {
      "tags": []
     },
     "output_type": "display_data"
    },
    {
     "data": {
      "image/png": "[encoded data removed]",
      "text/plain": [
       "<Figure size 432x288 with 2 Axes>"
      ]
     },
     "metadata": {
      "tags": []
     },
     "output_type": "display_data"
    },
    {
     "data": {
      "image/png": "[encoded data removed]",
      "text/plain": [
       "<Figure size 432x288 with 2 Axes>"
      ]
     },
     "metadata": {
      "tags": []
     },
     "output_type": "display_data"
    },
    {
     "data": {
      "image/png": "[encoded data removed]",
      "text/plain": [
       "<Figure size 432x288 with 2 Axes>"
      ]
     },
     "metadata": {
      "tags": []
     },
     "output_type": "display_data"
    },
    {
     "data": {
      "image/png": "[encoded data removed]",
      "text/plain": [
       "<Figure size 432x288 with 2 Axes>"
      ]
     },
     "metadata": {
      "tags": []
     },
     "output_type": "display_data"
    }
   ],
   "source": [
    "sns.set_style(style='whitegrid')\n",
    "for ft in df.columns:\n",
    "    #Format subplots\n",
    "    fig, ax = plt.subplots(1,2)\n",
    "    plt.subplots_adjust(right=2)\n",
    "    \n",
    "    #Construct values to count in each column\n",
    "    a=set(df[df['stalk-root']=='?'][ft]) # unordered set of unique values from x column\n",
    "    b=set(df[df['stalk-root']!='?'][ft])\n",
    "    c = a.union(b) # union of sets\n",
    "    c = np.sort(np.array(list(c))) \n",
    "    \n",
    "    #Build each subplot\n",
    "    sns.countplot(x=df[df['stalk-root']=='?'][ft], order=c, ax=ax[0]).set_title('stalk-root == ?')\n",
    "    sns.countplot(x=df[df['stalk-root']!='?'][ft], order=c, ax=ax[1]).set_title('stalk-root != ?')\n",
    "    \n",
    "    #Plot the plots\n",
    "    fig.show()"
   ]
  },
  {
   "cell_type": "markdown",
   "metadata": {
    "id": "lmJDY2tg6XgL"
   },
   "source": [
    "Having analyzed the distribution of each feature within those two data sets we can conclude that they vary greatly for each feature. Therefore, the fact that the stalk-root's are missing for some of the mushrooms and not missing for the others may indeed be a useful information and indicate that the *'?'* value should be treated as a separate category."
   ]
  },
  {
   "cell_type": "markdown",
   "metadata": {
    "id": "K7bxehBfpXK3"
   },
   "source": [
    "# Data encoding"
   ]
  },
  {
   "cell_type": "code",
   "execution_count": null,
   "metadata": {
    "colab": {
     "base_uri": "https://localhost:8080/",
     "height": 287
    },
    "id": "bOQWhKraPrDH",
    "outputId": "482601c0-9ec5-4c50-a217-acc5c9b3ec95"
   },
   "outputs": [
    {
     "data": {
      "text/html": [
       "<div>\n",
       "<style scoped>\n",
       "    .dataframe tbody tr th:only-of-type {\n",
       "        vertical-align: middle;\n",
       "    }\n",
       "\n",
       "    .dataframe tbody tr th {\n",
       "        vertical-align: top;\n",
       "    }\n",
       "\n",
       "    .dataframe thead th {\n",
       "        text-align: right;\n",
       "    }\n",
       "</style>\n",
       "<table border=\"1\" class=\"dataframe\">\n",
       "  <thead>\n",
       "    <tr style=\"text-align: right;\">\n",
       "      <th></th>\n",
       "      <th>class_1</th>\n",
       "      <th>cap-shape_1</th>\n",
       "      <th>cap-shape_2</th>\n",
       "      <th>cap-shape_3</th>\n",
       "      <th>cap-shape_4</th>\n",
       "      <th>cap-shape_5</th>\n",
       "      <th>cap-surface_1</th>\n",
       "      <th>cap-surface_2</th>\n",
       "      <th>cap-surface_3</th>\n",
       "      <th>cap-color_1</th>\n",
       "      <th>cap-color_2</th>\n",
       "      <th>cap-color_3</th>\n",
       "      <th>cap-color_4</th>\n",
       "      <th>cap-color_5</th>\n",
       "      <th>cap-color_6</th>\n",
       "      <th>cap-color_7</th>\n",
       "      <th>cap-color_8</th>\n",
       "      <th>cap-color_9</th>\n",
       "      <th>bruises_1</th>\n",
       "      <th>odor_1</th>\n",
       "      <th>odor_2</th>\n",
       "      <th>odor_3</th>\n",
       "      <th>odor_4</th>\n",
       "      <th>odor_5</th>\n",
       "      <th>odor_6</th>\n",
       "      <th>odor_7</th>\n",
       "      <th>odor_8</th>\n",
       "      <th>gill-attachment_1</th>\n",
       "      <th>gill-spacing_1</th>\n",
       "      <th>gill-size_1</th>\n",
       "      <th>gill-color_1</th>\n",
       "      <th>gill-color_2</th>\n",
       "      <th>gill-color_3</th>\n",
       "      <th>gill-color_4</th>\n",
       "      <th>gill-color_5</th>\n",
       "      <th>gill-color_6</th>\n",
       "      <th>gill-color_7</th>\n",
       "      <th>gill-color_8</th>\n",
       "      <th>gill-color_9</th>\n",
       "      <th>gill-color_10</th>\n",
       "      <th>...</th>\n",
       "      <th>stalk-color-above-ring_5</th>\n",
       "      <th>stalk-color-above-ring_6</th>\n",
       "      <th>stalk-color-above-ring_7</th>\n",
       "      <th>stalk-color-above-ring_8</th>\n",
       "      <th>stalk-color-below-ring_1</th>\n",
       "      <th>stalk-color-below-ring_2</th>\n",
       "      <th>stalk-color-below-ring_3</th>\n",
       "      <th>stalk-color-below-ring_4</th>\n",
       "      <th>stalk-color-below-ring_5</th>\n",
       "      <th>stalk-color-below-ring_6</th>\n",
       "      <th>stalk-color-below-ring_7</th>\n",
       "      <th>stalk-color-below-ring_8</th>\n",
       "      <th>veil-color_1</th>\n",
       "      <th>veil-color_2</th>\n",
       "      <th>veil-color_3</th>\n",
       "      <th>ring-number_1</th>\n",
       "      <th>ring-number_2</th>\n",
       "      <th>ring-type_1</th>\n",
       "      <th>ring-type_2</th>\n",
       "      <th>ring-type_3</th>\n",
       "      <th>ring-type_4</th>\n",
       "      <th>spore-print-color_1</th>\n",
       "      <th>spore-print-color_2</th>\n",
       "      <th>spore-print-color_3</th>\n",
       "      <th>spore-print-color_4</th>\n",
       "      <th>spore-print-color_5</th>\n",
       "      <th>spore-print-color_6</th>\n",
       "      <th>spore-print-color_7</th>\n",
       "      <th>spore-print-color_8</th>\n",
       "      <th>population_1</th>\n",
       "      <th>population_2</th>\n",
       "      <th>population_3</th>\n",
       "      <th>population_4</th>\n",
       "      <th>population_5</th>\n",
       "      <th>habitat_1</th>\n",
       "      <th>habitat_2</th>\n",
       "      <th>habitat_3</th>\n",
       "      <th>habitat_4</th>\n",
       "      <th>habitat_5</th>\n",
       "      <th>habitat_6</th>\n",
       "    </tr>\n",
       "  </thead>\n",
       "  <tbody>\n",
       "    <tr>\n",
       "      <th>0</th>\n",
       "      <td>1</td>\n",
       "      <td>0</td>\n",
       "      <td>0</td>\n",
       "      <td>0</td>\n",
       "      <td>0</td>\n",
       "      <td>1</td>\n",
       "      <td>0</td>\n",
       "      <td>1</td>\n",
       "      <td>0</td>\n",
       "      <td>0</td>\n",
       "      <td>0</td>\n",
       "      <td>0</td>\n",
       "      <td>1</td>\n",
       "      <td>0</td>\n",
       "      <td>0</td>\n",
       "      <td>0</td>\n",
       "      <td>0</td>\n",
       "      <td>0</td>\n",
       "      <td>1</td>\n",
       "      <td>0</td>\n",
       "      <td>0</td>\n",
       "      <td>0</td>\n",
       "      <td>0</td>\n",
       "      <td>0</td>\n",
       "      <td>1</td>\n",
       "      <td>0</td>\n",
       "      <td>0</td>\n",
       "      <td>1</td>\n",
       "      <td>0</td>\n",
       "      <td>1</td>\n",
       "      <td>0</td>\n",
       "      <td>0</td>\n",
       "      <td>0</td>\n",
       "      <td>1</td>\n",
       "      <td>0</td>\n",
       "      <td>0</td>\n",
       "      <td>0</td>\n",
       "      <td>0</td>\n",
       "      <td>0</td>\n",
       "      <td>0</td>\n",
       "      <td>...</td>\n",
       "      <td>0</td>\n",
       "      <td>0</td>\n",
       "      <td>1</td>\n",
       "      <td>0</td>\n",
       "      <td>0</td>\n",
       "      <td>0</td>\n",
       "      <td>0</td>\n",
       "      <td>0</td>\n",
       "      <td>0</td>\n",
       "      <td>0</td>\n",
       "      <td>1</td>\n",
       "      <td>0</td>\n",
       "      <td>0</td>\n",
       "      <td>1</td>\n",
       "      <td>0</td>\n",
       "      <td>1</td>\n",
       "      <td>0</td>\n",
       "      <td>0</td>\n",
       "      <td>0</td>\n",
       "      <td>0</td>\n",
       "      <td>1</td>\n",
       "      <td>0</td>\n",
       "      <td>1</td>\n",
       "      <td>0</td>\n",
       "      <td>0</td>\n",
       "      <td>0</td>\n",
       "      <td>0</td>\n",
       "      <td>0</td>\n",
       "      <td>0</td>\n",
       "      <td>0</td>\n",
       "      <td>0</td>\n",
       "      <td>1</td>\n",
       "      <td>0</td>\n",
       "      <td>0</td>\n",
       "      <td>0</td>\n",
       "      <td>0</td>\n",
       "      <td>0</td>\n",
       "      <td>0</td>\n",
       "      <td>1</td>\n",
       "      <td>0</td>\n",
       "    </tr>\n",
       "    <tr>\n",
       "      <th>1</th>\n",
       "      <td>0</td>\n",
       "      <td>0</td>\n",
       "      <td>0</td>\n",
       "      <td>0</td>\n",
       "      <td>0</td>\n",
       "      <td>1</td>\n",
       "      <td>0</td>\n",
       "      <td>1</td>\n",
       "      <td>0</td>\n",
       "      <td>0</td>\n",
       "      <td>0</td>\n",
       "      <td>0</td>\n",
       "      <td>0</td>\n",
       "      <td>0</td>\n",
       "      <td>0</td>\n",
       "      <td>0</td>\n",
       "      <td>0</td>\n",
       "      <td>1</td>\n",
       "      <td>1</td>\n",
       "      <td>0</td>\n",
       "      <td>0</td>\n",
       "      <td>0</td>\n",
       "      <td>0</td>\n",
       "      <td>0</td>\n",
       "      <td>0</td>\n",
       "      <td>0</td>\n",
       "      <td>0</td>\n",
       "      <td>1</td>\n",
       "      <td>0</td>\n",
       "      <td>0</td>\n",
       "      <td>0</td>\n",
       "      <td>0</td>\n",
       "      <td>0</td>\n",
       "      <td>1</td>\n",
       "      <td>0</td>\n",
       "      <td>0</td>\n",
       "      <td>0</td>\n",
       "      <td>0</td>\n",
       "      <td>0</td>\n",
       "      <td>0</td>\n",
       "      <td>...</td>\n",
       "      <td>0</td>\n",
       "      <td>0</td>\n",
       "      <td>1</td>\n",
       "      <td>0</td>\n",
       "      <td>0</td>\n",
       "      <td>0</td>\n",
       "      <td>0</td>\n",
       "      <td>0</td>\n",
       "      <td>0</td>\n",
       "      <td>0</td>\n",
       "      <td>1</td>\n",
       "      <td>0</td>\n",
       "      <td>0</td>\n",
       "      <td>1</td>\n",
       "      <td>0</td>\n",
       "      <td>1</td>\n",
       "      <td>0</td>\n",
       "      <td>0</td>\n",
       "      <td>0</td>\n",
       "      <td>0</td>\n",
       "      <td>1</td>\n",
       "      <td>0</td>\n",
       "      <td>0</td>\n",
       "      <td>1</td>\n",
       "      <td>0</td>\n",
       "      <td>0</td>\n",
       "      <td>0</td>\n",
       "      <td>0</td>\n",
       "      <td>0</td>\n",
       "      <td>0</td>\n",
       "      <td>1</td>\n",
       "      <td>0</td>\n",
       "      <td>0</td>\n",
       "      <td>0</td>\n",
       "      <td>1</td>\n",
       "      <td>0</td>\n",
       "      <td>0</td>\n",
       "      <td>0</td>\n",
       "      <td>0</td>\n",
       "      <td>0</td>\n",
       "    </tr>\n",
       "    <tr>\n",
       "      <th>2</th>\n",
       "      <td>0</td>\n",
       "      <td>0</td>\n",
       "      <td>0</td>\n",
       "      <td>0</td>\n",
       "      <td>0</td>\n",
       "      <td>0</td>\n",
       "      <td>0</td>\n",
       "      <td>1</td>\n",
       "      <td>0</td>\n",
       "      <td>0</td>\n",
       "      <td>0</td>\n",
       "      <td>0</td>\n",
       "      <td>0</td>\n",
       "      <td>0</td>\n",
       "      <td>0</td>\n",
       "      <td>0</td>\n",
       "      <td>1</td>\n",
       "      <td>0</td>\n",
       "      <td>1</td>\n",
       "      <td>0</td>\n",
       "      <td>0</td>\n",
       "      <td>1</td>\n",
       "      <td>0</td>\n",
       "      <td>0</td>\n",
       "      <td>0</td>\n",
       "      <td>0</td>\n",
       "      <td>0</td>\n",
       "      <td>1</td>\n",
       "      <td>0</td>\n",
       "      <td>0</td>\n",
       "      <td>0</td>\n",
       "      <td>0</td>\n",
       "      <td>0</td>\n",
       "      <td>0</td>\n",
       "      <td>1</td>\n",
       "      <td>0</td>\n",
       "      <td>0</td>\n",
       "      <td>0</td>\n",
       "      <td>0</td>\n",
       "      <td>0</td>\n",
       "      <td>...</td>\n",
       "      <td>0</td>\n",
       "      <td>0</td>\n",
       "      <td>1</td>\n",
       "      <td>0</td>\n",
       "      <td>0</td>\n",
       "      <td>0</td>\n",
       "      <td>0</td>\n",
       "      <td>0</td>\n",
       "      <td>0</td>\n",
       "      <td>0</td>\n",
       "      <td>1</td>\n",
       "      <td>0</td>\n",
       "      <td>0</td>\n",
       "      <td>1</td>\n",
       "      <td>0</td>\n",
       "      <td>1</td>\n",
       "      <td>0</td>\n",
       "      <td>0</td>\n",
       "      <td>0</td>\n",
       "      <td>0</td>\n",
       "      <td>1</td>\n",
       "      <td>0</td>\n",
       "      <td>0</td>\n",
       "      <td>1</td>\n",
       "      <td>0</td>\n",
       "      <td>0</td>\n",
       "      <td>0</td>\n",
       "      <td>0</td>\n",
       "      <td>0</td>\n",
       "      <td>0</td>\n",
       "      <td>1</td>\n",
       "      <td>0</td>\n",
       "      <td>0</td>\n",
       "      <td>0</td>\n",
       "      <td>0</td>\n",
       "      <td>0</td>\n",
       "      <td>1</td>\n",
       "      <td>0</td>\n",
       "      <td>0</td>\n",
       "      <td>0</td>\n",
       "    </tr>\n",
       "    <tr>\n",
       "      <th>3</th>\n",
       "      <td>1</td>\n",
       "      <td>0</td>\n",
       "      <td>0</td>\n",
       "      <td>0</td>\n",
       "      <td>0</td>\n",
       "      <td>1</td>\n",
       "      <td>0</td>\n",
       "      <td>0</td>\n",
       "      <td>1</td>\n",
       "      <td>0</td>\n",
       "      <td>0</td>\n",
       "      <td>0</td>\n",
       "      <td>0</td>\n",
       "      <td>0</td>\n",
       "      <td>0</td>\n",
       "      <td>0</td>\n",
       "      <td>1</td>\n",
       "      <td>0</td>\n",
       "      <td>1</td>\n",
       "      <td>0</td>\n",
       "      <td>0</td>\n",
       "      <td>0</td>\n",
       "      <td>0</td>\n",
       "      <td>0</td>\n",
       "      <td>1</td>\n",
       "      <td>0</td>\n",
       "      <td>0</td>\n",
       "      <td>1</td>\n",
       "      <td>0</td>\n",
       "      <td>1</td>\n",
       "      <td>0</td>\n",
       "      <td>0</td>\n",
       "      <td>0</td>\n",
       "      <td>0</td>\n",
       "      <td>1</td>\n",
       "      <td>0</td>\n",
       "      <td>0</td>\n",
       "      <td>0</td>\n",
       "      <td>0</td>\n",
       "      <td>0</td>\n",
       "      <td>...</td>\n",
       "      <td>0</td>\n",
       "      <td>0</td>\n",
       "      <td>1</td>\n",
       "      <td>0</td>\n",
       "      <td>0</td>\n",
       "      <td>0</td>\n",
       "      <td>0</td>\n",
       "      <td>0</td>\n",
       "      <td>0</td>\n",
       "      <td>0</td>\n",
       "      <td>1</td>\n",
       "      <td>0</td>\n",
       "      <td>0</td>\n",
       "      <td>1</td>\n",
       "      <td>0</td>\n",
       "      <td>1</td>\n",
       "      <td>0</td>\n",
       "      <td>0</td>\n",
       "      <td>0</td>\n",
       "      <td>0</td>\n",
       "      <td>1</td>\n",
       "      <td>0</td>\n",
       "      <td>1</td>\n",
       "      <td>0</td>\n",
       "      <td>0</td>\n",
       "      <td>0</td>\n",
       "      <td>0</td>\n",
       "      <td>0</td>\n",
       "      <td>0</td>\n",
       "      <td>0</td>\n",
       "      <td>0</td>\n",
       "      <td>1</td>\n",
       "      <td>0</td>\n",
       "      <td>0</td>\n",
       "      <td>0</td>\n",
       "      <td>0</td>\n",
       "      <td>0</td>\n",
       "      <td>0</td>\n",
       "      <td>1</td>\n",
       "      <td>0</td>\n",
       "    </tr>\n",
       "    <tr>\n",
       "      <th>4</th>\n",
       "      <td>0</td>\n",
       "      <td>0</td>\n",
       "      <td>0</td>\n",
       "      <td>0</td>\n",
       "      <td>0</td>\n",
       "      <td>1</td>\n",
       "      <td>0</td>\n",
       "      <td>1</td>\n",
       "      <td>0</td>\n",
       "      <td>0</td>\n",
       "      <td>0</td>\n",
       "      <td>1</td>\n",
       "      <td>0</td>\n",
       "      <td>0</td>\n",
       "      <td>0</td>\n",
       "      <td>0</td>\n",
       "      <td>0</td>\n",
       "      <td>0</td>\n",
       "      <td>0</td>\n",
       "      <td>0</td>\n",
       "      <td>0</td>\n",
       "      <td>0</td>\n",
       "      <td>0</td>\n",
       "      <td>1</td>\n",
       "      <td>0</td>\n",
       "      <td>0</td>\n",
       "      <td>0</td>\n",
       "      <td>1</td>\n",
       "      <td>1</td>\n",
       "      <td>0</td>\n",
       "      <td>0</td>\n",
       "      <td>0</td>\n",
       "      <td>0</td>\n",
       "      <td>1</td>\n",
       "      <td>0</td>\n",
       "      <td>0</td>\n",
       "      <td>0</td>\n",
       "      <td>0</td>\n",
       "      <td>0</td>\n",
       "      <td>0</td>\n",
       "      <td>...</td>\n",
       "      <td>0</td>\n",
       "      <td>0</td>\n",
       "      <td>1</td>\n",
       "      <td>0</td>\n",
       "      <td>0</td>\n",
       "      <td>0</td>\n",
       "      <td>0</td>\n",
       "      <td>0</td>\n",
       "      <td>0</td>\n",
       "      <td>0</td>\n",
       "      <td>1</td>\n",
       "      <td>0</td>\n",
       "      <td>0</td>\n",
       "      <td>1</td>\n",
       "      <td>0</td>\n",
       "      <td>1</td>\n",
       "      <td>0</td>\n",
       "      <td>0</td>\n",
       "      <td>0</td>\n",
       "      <td>0</td>\n",
       "      <td>0</td>\n",
       "      <td>0</td>\n",
       "      <td>0</td>\n",
       "      <td>1</td>\n",
       "      <td>0</td>\n",
       "      <td>0</td>\n",
       "      <td>0</td>\n",
       "      <td>0</td>\n",
       "      <td>0</td>\n",
       "      <td>0</td>\n",
       "      <td>0</td>\n",
       "      <td>0</td>\n",
       "      <td>0</td>\n",
       "      <td>0</td>\n",
       "      <td>1</td>\n",
       "      <td>0</td>\n",
       "      <td>0</td>\n",
       "      <td>0</td>\n",
       "      <td>0</td>\n",
       "      <td>0</td>\n",
       "    </tr>\n",
       "  </tbody>\n",
       "</table>\n",
       "<p>5 rows × 96 columns</p>\n",
       "</div>"
      ],
      "text/plain": [
       "   class_1  cap-shape_1  cap-shape_2  ...  habitat_4  habitat_5  habitat_6\n",
       "0        1            0            0  ...          0          1          0\n",
       "1        0            0            0  ...          0          0          0\n",
       "2        0            0            0  ...          0          0          0\n",
       "3        1            0            0  ...          0          1          0\n",
       "4        0            0            0  ...          0          0          0\n",
       "\n",
       "[5 rows x 96 columns]"
      ]
     },
     "execution_count": 30,
     "metadata": {
      "tags": []
     },
     "output_type": "execute_result"
    }
   ],
   "source": [
    "df_ohe = df.copy()\n",
    "LE = LabelEncoder() # in that case it's better, because it transforms the data frame, unlike .OneHotEncoder whose output is some matrix\n",
    "for column in df_ohe.columns:\n",
    "    df_ohe[column] = LE.fit_transform(df_ohe[column])\n",
    "df_ohe=pd.get_dummies(df_ohe,columns=df_ohe.columns,drop_first=True) # LE transforms classes to numerical values, so we have to create dummy variables to have one hot encoded data\n",
    "df_ohe.head()"
   ]
  },
  {
   "cell_type": "code",
   "execution_count": null,
   "metadata": {
    "colab": {
     "base_uri": "https://localhost:8080/",
     "height": 223
    },
    "id": "0t9kWzcdrKOt",
    "outputId": "07722279-3eda-4b56-d157-a0be63f7316a"
   },
   "outputs": [
    {
     "data": {
      "text/html": [
       "<div>\n",
       "<style scoped>\n",
       "    .dataframe tbody tr th:only-of-type {\n",
       "        vertical-align: middle;\n",
       "    }\n",
       "\n",
       "    .dataframe tbody tr th {\n",
       "        vertical-align: top;\n",
       "    }\n",
       "\n",
       "    .dataframe thead th {\n",
       "        text-align: right;\n",
       "    }\n",
       "</style>\n",
       "<table border=\"1\" class=\"dataframe\">\n",
       "  <thead>\n",
       "    <tr style=\"text-align: right;\">\n",
       "      <th></th>\n",
       "      <th>class</th>\n",
       "      <th>cap-shape</th>\n",
       "      <th>cap-surface</th>\n",
       "      <th>cap-color</th>\n",
       "      <th>bruises</th>\n",
       "      <th>odor</th>\n",
       "      <th>gill-attachment</th>\n",
       "      <th>gill-spacing</th>\n",
       "      <th>gill-size</th>\n",
       "      <th>gill-color</th>\n",
       "      <th>stalk-shape</th>\n",
       "      <th>stalk-root</th>\n",
       "      <th>stalk-surface-above-ring</th>\n",
       "      <th>stalk-surface-below-ring</th>\n",
       "      <th>stalk-color-above-ring</th>\n",
       "      <th>stalk-color-below-ring</th>\n",
       "      <th>veil-color</th>\n",
       "      <th>ring-number</th>\n",
       "      <th>ring-type</th>\n",
       "      <th>spore-print-color</th>\n",
       "      <th>population</th>\n",
       "      <th>habitat</th>\n",
       "    </tr>\n",
       "  </thead>\n",
       "  <tbody>\n",
       "    <tr>\n",
       "      <th>0</th>\n",
       "      <td>1</td>\n",
       "      <td>5</td>\n",
       "      <td>2</td>\n",
       "      <td>4</td>\n",
       "      <td>1</td>\n",
       "      <td>6</td>\n",
       "      <td>1</td>\n",
       "      <td>0</td>\n",
       "      <td>1</td>\n",
       "      <td>4</td>\n",
       "      <td>0</td>\n",
       "      <td>3</td>\n",
       "      <td>2</td>\n",
       "      <td>2</td>\n",
       "      <td>7</td>\n",
       "      <td>7</td>\n",
       "      <td>2</td>\n",
       "      <td>1</td>\n",
       "      <td>4</td>\n",
       "      <td>2</td>\n",
       "      <td>3</td>\n",
       "      <td>5</td>\n",
       "    </tr>\n",
       "    <tr>\n",
       "      <th>1</th>\n",
       "      <td>0</td>\n",
       "      <td>5</td>\n",
       "      <td>2</td>\n",
       "      <td>9</td>\n",
       "      <td>1</td>\n",
       "      <td>0</td>\n",
       "      <td>1</td>\n",
       "      <td>0</td>\n",
       "      <td>0</td>\n",
       "      <td>4</td>\n",
       "      <td>0</td>\n",
       "      <td>2</td>\n",
       "      <td>2</td>\n",
       "      <td>2</td>\n",
       "      <td>7</td>\n",
       "      <td>7</td>\n",
       "      <td>2</td>\n",
       "      <td>1</td>\n",
       "      <td>4</td>\n",
       "      <td>3</td>\n",
       "      <td>2</td>\n",
       "      <td>1</td>\n",
       "    </tr>\n",
       "    <tr>\n",
       "      <th>2</th>\n",
       "      <td>0</td>\n",
       "      <td>0</td>\n",
       "      <td>2</td>\n",
       "      <td>8</td>\n",
       "      <td>1</td>\n",
       "      <td>3</td>\n",
       "      <td>1</td>\n",
       "      <td>0</td>\n",
       "      <td>0</td>\n",
       "      <td>5</td>\n",
       "      <td>0</td>\n",
       "      <td>2</td>\n",
       "      <td>2</td>\n",
       "      <td>2</td>\n",
       "      <td>7</td>\n",
       "      <td>7</td>\n",
       "      <td>2</td>\n",
       "      <td>1</td>\n",
       "      <td>4</td>\n",
       "      <td>3</td>\n",
       "      <td>2</td>\n",
       "      <td>3</td>\n",
       "    </tr>\n",
       "    <tr>\n",
       "      <th>3</th>\n",
       "      <td>1</td>\n",
       "      <td>5</td>\n",
       "      <td>3</td>\n",
       "      <td>8</td>\n",
       "      <td>1</td>\n",
       "      <td>6</td>\n",
       "      <td>1</td>\n",
       "      <td>0</td>\n",
       "      <td>1</td>\n",
       "      <td>5</td>\n",
       "      <td>0</td>\n",
       "      <td>3</td>\n",
       "      <td>2</td>\n",
       "      <td>2</td>\n",
       "      <td>7</td>\n",
       "      <td>7</td>\n",
       "      <td>2</td>\n",
       "      <td>1</td>\n",
       "      <td>4</td>\n",
       "      <td>2</td>\n",
       "      <td>3</td>\n",
       "      <td>5</td>\n",
       "    </tr>\n",
       "    <tr>\n",
       "      <th>4</th>\n",
       "      <td>0</td>\n",
       "      <td>5</td>\n",
       "      <td>2</td>\n",
       "      <td>3</td>\n",
       "      <td>0</td>\n",
       "      <td>5</td>\n",
       "      <td>1</td>\n",
       "      <td>1</td>\n",
       "      <td>0</td>\n",
       "      <td>4</td>\n",
       "      <td>1</td>\n",
       "      <td>3</td>\n",
       "      <td>2</td>\n",
       "      <td>2</td>\n",
       "      <td>7</td>\n",
       "      <td>7</td>\n",
       "      <td>2</td>\n",
       "      <td>1</td>\n",
       "      <td>0</td>\n",
       "      <td>3</td>\n",
       "      <td>0</td>\n",
       "      <td>1</td>\n",
       "    </tr>\n",
       "  </tbody>\n",
       "</table>\n",
       "</div>"
      ],
      "text/plain": [
       "   class  cap-shape  cap-surface  ...  spore-print-color  population  habitat\n",
       "0      1          5            2  ...                  2           3        5\n",
       "1      0          5            2  ...                  3           2        1\n",
       "2      0          0            2  ...                  3           2        3\n",
       "3      1          5            3  ...                  2           3        5\n",
       "4      0          5            2  ...                  3           0        1\n",
       "\n",
       "[5 rows x 22 columns]"
      ]
     },
     "execution_count": 31,
     "metadata": {
      "tags": []
     },
     "output_type": "execute_result"
    }
   ],
   "source": [
    "LE = LabelEncoder()\n",
    "for column in df.columns:\n",
    "  df[column] = LE.fit_transform(df[column])\n",
    "df.head()"
   ]
  },
  {
   "cell_type": "code",
   "execution_count": null,
   "metadata": {
    "id": "2GTWCMjhoDNY"
   },
   "outputs": [],
   "source": [
    "X = df.drop(['class'], axis=1)\n",
    "y = df['class']\n",
    "X_ohe = df_ohe.drop(['class_1'], axis=1)\n",
    "y_ohe = df_ohe['class_1']\n",
    "\n",
    "X_train, X_test, y_train, y_test = train_test_split(X, y, test_size=0.2)\n",
    "X_train_ohe, X_test_ohe, y_train_ohe, y_test_ohe = train_test_split(X_ohe, y_ohe, test_size=0.2)"
   ]
  },
  {
   "cell_type": "markdown",
   "metadata": {
    "id": "aiBrc03-ra61"
   },
   "source": [
    "0 is 'poisonous' and 1 is 'edible', so the confusion matrices that we'll be computing later will be in the following form: \n",
    "\\begin{bmatrix}\n",
    "\\text{P predicted as P} & \\text{P predicted as E}\\\\\n",
    "\\text{E predicted as P} & \\text{E predicted as E}\n",
    "\\end{bmatrix}"
   ]
  },
  {
   "cell_type": "markdown",
   "metadata": {
    "id": "d3DO5uPHFsW7"
   },
   "source": [
    "# Decision Tree"
   ]
  },
  {
   "cell_type": "code",
   "execution_count": null,
   "metadata": {
    "colab": {
     "base_uri": "https://localhost:8080/",
     "height": 310
    },
    "id": "HQCWEIY6oQ87",
    "outputId": "e7e5e4eb-7418-4916-90a0-afa05008d63a"
   },
   "outputs": [
    {
     "name": "stdout",
     "output_type": "stream",
     "text": [
      "Results for training set:\n",
      "Accuracy Score: 1.0000\n",
      "\n",
      "Confusion Matrix:\n",
      "[[3384    0]\n",
      " [   0 3115]]\n",
      "\n",
      "CV accuracy scores: [1. 1. 1. 1. 1. 1. 1. 1. 1. 1.]\n",
      "CV accuracy: 1.000 +/- 0.000\n",
      "\n",
      "Results for testing set:\n",
      "Accuracy Score: 1.0000\n",
      "\n",
      "Confusion Matrix:\n",
      "[[824   0]\n",
      " [  0 801]]\n",
      "\n",
      "0.16117713699998149\n"
     ]
    }
   ],
   "source": [
    "tree_ = DecisionTreeClassifier(criterion='gini',random_state=101) # it basically doesn't matter whether we use gini or entropy. However, entropy takes slightly more computation time than gini because of the log calculation\n",
    "tree_.fit(X_train,y_train)\n",
    "score(tree_, X_train, y_train, X_test, y_test)"
   ]
  },
  {
   "cell_type": "code",
   "execution_count": null,
   "metadata": {
    "colab": {
     "base_uri": "https://localhost:8080/",
     "height": 1000
    },
    "id": "SQEesZYL8cmh",
    "outputId": "5de23f13-835f-4e67-b0e3-57fa61a26af2"
   },
   "outputs": [
    {
     "data": {
      "image/svg+xml": [
       "<?xml version=\"1.0\" encoding=\"UTF-8\" standalone=\"no\"?>\n",
       "<!DOCTYPE svg PUBLIC \"-//W3C//DTD SVG 1.1//EN\"\n",
       " \"http://www.w3.org/Graphics/SVG/1.1/DTD/svg11.dtd\">\n",
       "<!-- Generated by graphviz version 2.40.1 (20161225.0304)\n",
       " -->\n",
       "<!-- Title: Tree Pages: 1 -->\n",
       "<svg width=\"1488pt\" height=\"789pt\"\n",
       " viewBox=\"0.00 0.00 1487.50 789.00\" xmlns=\"http://www.w3.org/2000/svg\" xmlns:xlink=\"http://www.w3.org/1999/xlink\">\n",
       "<g id=\"graph0\" class=\"graph\" transform=\"scale(1 1) rotate(0) translate(4 785)\">\n",
       "<title>Tree</title>\n",
       "<polygon fill=\"#ffffff\" stroke=\"transparent\" points=\"-4,4 -4,-785 1483.5,-785 1483.5,4 -4,4\"/>\n",
       "<!-- 0 -->\n",
       "<g id=\"node1\" class=\"node\">\n",
       "<title>0</title>\n",
       "<path fill=\"#fdf5ef\" stroke=\"#000000\" d=\"M649,-781C649,-781 524,-781 524,-781 518,-781 512,-775 512,-769 512,-769 512,-725 512,-725 512,-719 518,-713 524,-713 524,-713 649,-713 649,-713 655,-713 661,-719 661,-725 661,-725 661,-769 661,-769 661,-775 655,-781 649,-781\"/>\n",
       "<text text-anchor=\"start\" x=\"542\" y=\"-765.8\" font-family=\"Helvetica,sans-Serif\" font-size=\"14.00\" fill=\"#000000\">gill&#45;color ≤ 3.5</text>\n",
       "<text text-anchor=\"start\" x=\"548.5\" y=\"-750.8\" font-family=\"Helvetica,sans-Serif\" font-size=\"14.00\" fill=\"#000000\">gini = 0.499</text>\n",
       "<text text-anchor=\"start\" x=\"534.5\" y=\"-735.8\" font-family=\"Helvetica,sans-Serif\" font-size=\"14.00\" fill=\"#000000\">samples = 6499</text>\n",
       "<text text-anchor=\"start\" x=\"520\" y=\"-720.8\" font-family=\"Helvetica,sans-Serif\" font-size=\"14.00\" fill=\"#000000\">value = [3384, 3115]</text>\n",
       "</g>\n",
       "<!-- 1 -->\n",
       "<g id=\"node2\" class=\"node\">\n",
       "<title>1</title>\n",
       "<path fill=\"#61b1ea\" stroke=\"#000000\" d=\"M494.5,-677C494.5,-677 378.5,-677 378.5,-677 372.5,-677 366.5,-671 366.5,-665 366.5,-665 366.5,-621 366.5,-621 366.5,-615 372.5,-609 378.5,-609 378.5,-609 494.5,-609 494.5,-609 500.5,-609 506.5,-615 506.5,-621 506.5,-621 506.5,-665 506.5,-665 506.5,-671 500.5,-677 494.5,-677\"/>\n",
       "<text text-anchor=\"start\" x=\"385\" y=\"-661.8\" font-family=\"Helvetica,sans-Serif\" font-size=\"14.00\" fill=\"#000000\">population ≤ 3.5</text>\n",
       "<text text-anchor=\"start\" x=\"398.5\" y=\"-646.8\" font-family=\"Helvetica,sans-Serif\" font-size=\"14.00\" fill=\"#000000\">gini = 0.281</text>\n",
       "<text text-anchor=\"start\" x=\"384.5\" y=\"-631.8\" font-family=\"Helvetica,sans-Serif\" font-size=\"14.00\" fill=\"#000000\">samples = 2635</text>\n",
       "<text text-anchor=\"start\" x=\"374.5\" y=\"-616.8\" font-family=\"Helvetica,sans-Serif\" font-size=\"14.00\" fill=\"#000000\">value = [445, 2190]</text>\n",
       "</g>\n",
       "<!-- 0&#45;&gt;1 -->\n",
       "<g id=\"edge1\" class=\"edge\">\n",
       "<title>0&#45;&gt;1</title>\n",
       "<path fill=\"none\" stroke=\"#000000\" d=\"M537.3844,-712.9465C523.5281,-703.3395 508.3283,-692.8009 494.0261,-682.8848\"/>\n",
       "<polygon fill=\"#000000\" stroke=\"#000000\" points=\"495.9382,-679.9515 485.726,-677.13 491.9497,-685.7041 495.9382,-679.9515\"/>\n",
       "<text text-anchor=\"middle\" x=\"490.181\" y=\"-698.0298\" font-family=\"Helvetica,sans-Serif\" font-size=\"14.00\" fill=\"#000000\">True</text>\n",
       "</g>\n",
       "<!-- 14 -->\n",
       "<g id=\"node15\" class=\"node\">\n",
       "<title>14</title>\n",
       "<path fill=\"#eda977\" stroke=\"#000000\" d=\"M802,-677C802,-677 669,-677 669,-677 663,-677 657,-671 657,-665 657,-665 657,-621 657,-621 657,-615 663,-609 669,-609 669,-609 802,-609 802,-609 808,-609 814,-615 814,-621 814,-621 814,-665 814,-665 814,-671 808,-677 802,-677\"/>\n",
       "<text text-anchor=\"start\" x=\"665\" y=\"-661.8\" font-family=\"Helvetica,sans-Serif\" font-size=\"14.00\" fill=\"#000000\">spore&#45;print&#45;color ≤ 1.5</text>\n",
       "<text text-anchor=\"start\" x=\"697.5\" y=\"-646.8\" font-family=\"Helvetica,sans-Serif\" font-size=\"14.00\" fill=\"#000000\">gini = 0.364</text>\n",
       "<text text-anchor=\"start\" x=\"683.5\" y=\"-631.8\" font-family=\"Helvetica,sans-Serif\" font-size=\"14.00\" fill=\"#000000\">samples = 3864</text>\n",
       "<text text-anchor=\"start\" x=\"673.5\" y=\"-616.8\" font-family=\"Helvetica,sans-Serif\" font-size=\"14.00\" fill=\"#000000\">value = [2939, 925]</text>\n",
       "</g>\n",
       "<!-- 0&#45;&gt;14 -->\n",
       "<g id=\"edge14\" class=\"edge\">\n",
       "<title>0&#45;&gt;14</title>\n",
       "<path fill=\"none\" stroke=\"#000000\" d=\"M635.2882,-712.9465C649.0521,-703.3395 664.1506,-692.8009 678.3574,-682.8848\"/>\n",
       "<polygon fill=\"#000000\" stroke=\"#000000\" points=\"680.4054,-685.7236 686.6022,-677.13 676.3989,-679.9835 680.4054,-685.7236\"/>\n",
       "<text text-anchor=\"middle\" x=\"682.2243\" y=\"-698.0437\" font-family=\"Helvetica,sans-Serif\" font-size=\"14.00\" fill=\"#000000\">False</text>\n",
       "</g>\n",
       "<!-- 2 -->\n",
       "<g id=\"node3\" class=\"node\">\n",
       "<title>2</title>\n",
       "<path fill=\"#e99355\" stroke=\"#000000\" d=\"M254,-573C254,-573 121,-573 121,-573 115,-573 109,-567 109,-561 109,-561 109,-517 109,-517 109,-511 115,-505 121,-505 121,-505 254,-505 254,-505 260,-505 266,-511 266,-517 266,-517 266,-561 266,-561 266,-567 260,-573 254,-573\"/>\n",
       "<text text-anchor=\"start\" x=\"117\" y=\"-557.8\" font-family=\"Helvetica,sans-Serif\" font-size=\"14.00\" fill=\"#000000\">spore&#45;print&#45;color ≤ 1.5</text>\n",
       "<text text-anchor=\"start\" x=\"149.5\" y=\"-542.8\" font-family=\"Helvetica,sans-Serif\" font-size=\"14.00\" fill=\"#000000\">gini = 0.218</text>\n",
       "<text text-anchor=\"start\" x=\"139.5\" y=\"-527.8\" font-family=\"Helvetica,sans-Serif\" font-size=\"14.00\" fill=\"#000000\">samples = 475</text>\n",
       "<text text-anchor=\"start\" x=\"133.5\" y=\"-512.8\" font-family=\"Helvetica,sans-Serif\" font-size=\"14.00\" fill=\"#000000\">value = [416, 59]</text>\n",
       "</g>\n",
       "<!-- 1&#45;&gt;2 -->\n",
       "<g id=\"edge2\" class=\"edge\">\n",
       "<title>1&#45;&gt;2</title>\n",
       "<path fill=\"none\" stroke=\"#000000\" d=\"M366.477,-613.7534C338.3111,-601.9894 305.5117,-588.29 275.7422,-575.8562\"/>\n",
       "<polygon fill=\"#000000\" stroke=\"#000000\" points=\"276.7694,-572.4922 266.193,-571.8678 274.0716,-578.9515 276.7694,-572.4922\"/>\n",
       "</g>\n",
       "<!-- 7 -->\n",
       "<g id=\"node8\" class=\"node\">\n",
       "<title>7</title>\n",
       "<path fill=\"#3c9ee5\" stroke=\"#000000\" d=\"M490.5,-573C490.5,-573 382.5,-573 382.5,-573 376.5,-573 370.5,-567 370.5,-561 370.5,-561 370.5,-517 370.5,-517 370.5,-511 376.5,-505 382.5,-505 382.5,-505 490.5,-505 490.5,-505 496.5,-505 502.5,-511 502.5,-517 502.5,-517 502.5,-561 502.5,-561 502.5,-567 496.5,-573 490.5,-573\"/>\n",
       "<text text-anchor=\"start\" x=\"389\" y=\"-557.8\" font-family=\"Helvetica,sans-Serif\" font-size=\"14.00\" fill=\"#000000\">stalk&#45;root ≤ 2.0</text>\n",
       "<text text-anchor=\"start\" x=\"398.5\" y=\"-542.8\" font-family=\"Helvetica,sans-Serif\" font-size=\"14.00\" fill=\"#000000\">gini = 0.026</text>\n",
       "<text text-anchor=\"start\" x=\"384.5\" y=\"-527.8\" font-family=\"Helvetica,sans-Serif\" font-size=\"14.00\" fill=\"#000000\">samples = 2160</text>\n",
       "<text text-anchor=\"start\" x=\"378.5\" y=\"-512.8\" font-family=\"Helvetica,sans-Serif\" font-size=\"14.00\" fill=\"#000000\">value = [29, 2131]</text>\n",
       "</g>\n",
       "<!-- 1&#45;&gt;7 -->\n",
       "<g id=\"edge7\" class=\"edge\">\n",
       "<title>1&#45;&gt;7</title>\n",
       "<path fill=\"none\" stroke=\"#000000\" d=\"M436.5,-608.9465C436.5,-600.776 436.5,-591.9318 436.5,-583.3697\"/>\n",
       "<polygon fill=\"#000000\" stroke=\"#000000\" points=\"440.0001,-583.13 436.5,-573.13 433.0001,-583.13 440.0001,-583.13\"/>\n",
       "</g>\n",
       "<!-- 3 -->\n",
       "<g id=\"node4\" class=\"node\">\n",
       "<title>3</title>\n",
       "<path fill=\"#399de5\" stroke=\"#000000\" d=\"M95,-461.5C95,-461.5 12,-461.5 12,-461.5 6,-461.5 0,-455.5 0,-449.5 0,-449.5 0,-420.5 0,-420.5 0,-414.5 6,-408.5 12,-408.5 12,-408.5 95,-408.5 95,-408.5 101,-408.5 107,-414.5 107,-420.5 107,-420.5 107,-449.5 107,-449.5 107,-455.5 101,-461.5 95,-461.5\"/>\n",
       "<text text-anchor=\"start\" x=\"24\" y=\"-446.3\" font-family=\"Helvetica,sans-Serif\" font-size=\"14.00\" fill=\"#000000\">gini = 0.0</text>\n",
       "<text text-anchor=\"start\" x=\"9.5\" y=\"-431.3\" font-family=\"Helvetica,sans-Serif\" font-size=\"14.00\" fill=\"#000000\">samples = 40</text>\n",
       "<text text-anchor=\"start\" x=\"8\" y=\"-416.3\" font-family=\"Helvetica,sans-Serif\" font-size=\"14.00\" fill=\"#000000\">value = [0, 40]</text>\n",
       "</g>\n",
       "<!-- 2&#45;&gt;3 -->\n",
       "<g id=\"edge3\" class=\"edge\">\n",
       "<title>2&#45;&gt;3</title>\n",
       "<path fill=\"none\" stroke=\"#000000\" d=\"M143.6234,-504.9465C128.2957,-493.0504 111.1277,-479.726 95.9209,-467.9237\"/>\n",
       "<polygon fill=\"#000000\" stroke=\"#000000\" points=\"97.7444,-464.9085 87.6986,-461.5422 93.4525,-470.4384 97.7444,-464.9085\"/>\n",
       "</g>\n",
       "<!-- 4 -->\n",
       "<g id=\"node5\" class=\"node\">\n",
       "<title>4</title>\n",
       "<path fill=\"#e68742\" stroke=\"#000000\" d=\"M237.5,-469C237.5,-469 137.5,-469 137.5,-469 131.5,-469 125.5,-463 125.5,-457 125.5,-457 125.5,-413 125.5,-413 125.5,-407 131.5,-401 137.5,-401 137.5,-401 237.5,-401 237.5,-401 243.5,-401 249.5,-407 249.5,-413 249.5,-413 249.5,-457 249.5,-457 249.5,-463 243.5,-469 237.5,-469\"/>\n",
       "<text text-anchor=\"start\" x=\"145.5\" y=\"-453.8\" font-family=\"Helvetica,sans-Serif\" font-size=\"14.00\" fill=\"#000000\">gill&#45;size ≤ 0.5</text>\n",
       "<text text-anchor=\"start\" x=\"149.5\" y=\"-438.8\" font-family=\"Helvetica,sans-Serif\" font-size=\"14.00\" fill=\"#000000\">gini = 0.084</text>\n",
       "<text text-anchor=\"start\" x=\"139.5\" y=\"-423.8\" font-family=\"Helvetica,sans-Serif\" font-size=\"14.00\" fill=\"#000000\">samples = 435</text>\n",
       "<text text-anchor=\"start\" x=\"133.5\" y=\"-408.8\" font-family=\"Helvetica,sans-Serif\" font-size=\"14.00\" fill=\"#000000\">value = [416, 19]</text>\n",
       "</g>\n",
       "<!-- 2&#45;&gt;4 -->\n",
       "<g id=\"edge4\" class=\"edge\">\n",
       "<title>2&#45;&gt;4</title>\n",
       "<path fill=\"none\" stroke=\"#000000\" d=\"M187.5,-504.9465C187.5,-496.776 187.5,-487.9318 187.5,-479.3697\"/>\n",
       "<polygon fill=\"#000000\" stroke=\"#000000\" points=\"191.0001,-479.13 187.5,-469.13 184.0001,-479.13 191.0001,-479.13\"/>\n",
       "</g>\n",
       "<!-- 5 -->\n",
       "<g id=\"node6\" class=\"node\">\n",
       "<title>5</title>\n",
       "<path fill=\"#e58139\" stroke=\"#000000\" d=\"M117.5,-357.5C117.5,-357.5 25.5,-357.5 25.5,-357.5 19.5,-357.5 13.5,-351.5 13.5,-345.5 13.5,-345.5 13.5,-316.5 13.5,-316.5 13.5,-310.5 19.5,-304.5 25.5,-304.5 25.5,-304.5 117.5,-304.5 117.5,-304.5 123.5,-304.5 129.5,-310.5 129.5,-316.5 129.5,-316.5 129.5,-345.5 129.5,-345.5 129.5,-351.5 123.5,-357.5 117.5,-357.5\"/>\n",
       "<text text-anchor=\"start\" x=\"42\" y=\"-342.3\" font-family=\"Helvetica,sans-Serif\" font-size=\"14.00\" fill=\"#000000\">gini = 0.0</text>\n",
       "<text text-anchor=\"start\" x=\"23.5\" y=\"-327.3\" font-family=\"Helvetica,sans-Serif\" font-size=\"14.00\" fill=\"#000000\">samples = 416</text>\n",
       "<text text-anchor=\"start\" x=\"21.5\" y=\"-312.3\" font-family=\"Helvetica,sans-Serif\" font-size=\"14.00\" fill=\"#000000\">value = [416, 0]</text>\n",
       "</g>\n",
       "<!-- 4&#45;&gt;5 -->\n",
       "<g id=\"edge5\" class=\"edge\">\n",
       "<title>4&#45;&gt;5</title>\n",
       "<path fill=\"none\" stroke=\"#000000\" d=\"M149.5173,-400.9465C136.3714,-389.1606 121.6618,-375.9726 108.5887,-364.2519\"/>\n",
       "<polygon fill=\"#000000\" stroke=\"#000000\" points=\"110.8869,-361.6116 101.1047,-357.5422 106.214,-366.8236 110.8869,-361.6116\"/>\n",
       "</g>\n",
       "<!-- 6 -->\n",
       "<g id=\"node7\" class=\"node\">\n",
       "<title>6</title>\n",
       "<path fill=\"#399de5\" stroke=\"#000000\" d=\"M243,-357.5C243,-357.5 160,-357.5 160,-357.5 154,-357.5 148,-351.5 148,-345.5 148,-345.5 148,-316.5 148,-316.5 148,-310.5 154,-304.5 160,-304.5 160,-304.5 243,-304.5 243,-304.5 249,-304.5 255,-310.5 255,-316.5 255,-316.5 255,-345.5 255,-345.5 255,-351.5 249,-357.5 243,-357.5\"/>\n",
       "<text text-anchor=\"start\" x=\"172\" y=\"-342.3\" font-family=\"Helvetica,sans-Serif\" font-size=\"14.00\" fill=\"#000000\">gini = 0.0</text>\n",
       "<text text-anchor=\"start\" x=\"157.5\" y=\"-327.3\" font-family=\"Helvetica,sans-Serif\" font-size=\"14.00\" fill=\"#000000\">samples = 19</text>\n",
       "<text text-anchor=\"start\" x=\"156\" y=\"-312.3\" font-family=\"Helvetica,sans-Serif\" font-size=\"14.00\" fill=\"#000000\">value = [0, 19]</text>\n",
       "</g>\n",
       "<!-- 4&#45;&gt;6 -->\n",
       "<g id=\"edge6\" class=\"edge\">\n",
       "<title>4&#45;&gt;6</title>\n",
       "<path fill=\"none\" stroke=\"#000000\" d=\"M192.0841,-400.9465C193.5224,-390.2621 195.1158,-378.4254 196.5765,-367.5742\"/>\n",
       "<polygon fill=\"#000000\" stroke=\"#000000\" points=\"200.0615,-367.9197 197.927,-357.5422 193.1241,-366.9858 200.0615,-367.9197\"/>\n",
       "</g>\n",
       "<!-- 8 -->\n",
       "<g id=\"node9\" class=\"node\">\n",
       "<title>8</title>\n",
       "<path fill=\"#3a9ee5\" stroke=\"#000000\" d=\"M461.5,-469C461.5,-469 279.5,-469 279.5,-469 273.5,-469 267.5,-463 267.5,-457 267.5,-457 267.5,-413 267.5,-413 267.5,-407 273.5,-401 279.5,-401 279.5,-401 461.5,-401 461.5,-401 467.5,-401 473.5,-407 473.5,-413 473.5,-413 473.5,-457 473.5,-457 473.5,-463 467.5,-469 461.5,-469\"/>\n",
       "<text text-anchor=\"start\" x=\"275.5\" y=\"-453.8\" font-family=\"Helvetica,sans-Serif\" font-size=\"14.00\" fill=\"#000000\">stalk&#45;surface&#45;below&#45;ring ≤ 0.5</text>\n",
       "<text text-anchor=\"start\" x=\"337\" y=\"-438.8\" font-family=\"Helvetica,sans-Serif\" font-size=\"14.00\" fill=\"#000000\">gini = 0.01</text>\n",
       "<text text-anchor=\"start\" x=\"318.5\" y=\"-423.8\" font-family=\"Helvetica,sans-Serif\" font-size=\"14.00\" fill=\"#000000\">samples = 2142</text>\n",
       "<text text-anchor=\"start\" x=\"312.5\" y=\"-408.8\" font-family=\"Helvetica,sans-Serif\" font-size=\"14.00\" fill=\"#000000\">value = [11, 2131]</text>\n",
       "</g>\n",
       "<!-- 7&#45;&gt;8 -->\n",
       "<g id=\"edge8\" class=\"edge\">\n",
       "<title>7&#45;&gt;8</title>\n",
       "<path fill=\"none\" stroke=\"#000000\" d=\"M414.8891,-504.9465C409.3622,-496.2373 403.3494,-486.7626 397.5854,-477.6801\"/>\n",
       "<polygon fill=\"#000000\" stroke=\"#000000\" points=\"400.4729,-475.6979 392.1594,-469.13 394.5626,-479.4487 400.4729,-475.6979\"/>\n",
       "</g>\n",
       "<!-- 13 -->\n",
       "<g id=\"node14\" class=\"node\">\n",
       "<title>13</title>\n",
       "<path fill=\"#e58139\" stroke=\"#000000\" d=\"M587,-461.5C587,-461.5 504,-461.5 504,-461.5 498,-461.5 492,-455.5 492,-449.5 492,-449.5 492,-420.5 492,-420.5 492,-414.5 498,-408.5 504,-408.5 504,-408.5 587,-408.5 587,-408.5 593,-408.5 599,-414.5 599,-420.5 599,-420.5 599,-449.5 599,-449.5 599,-455.5 593,-461.5 587,-461.5\"/>\n",
       "<text text-anchor=\"start\" x=\"516\" y=\"-446.3\" font-family=\"Helvetica,sans-Serif\" font-size=\"14.00\" fill=\"#000000\">gini = 0.0</text>\n",
       "<text text-anchor=\"start\" x=\"501.5\" y=\"-431.3\" font-family=\"Helvetica,sans-Serif\" font-size=\"14.00\" fill=\"#000000\">samples = 18</text>\n",
       "<text text-anchor=\"start\" x=\"500\" y=\"-416.3\" font-family=\"Helvetica,sans-Serif\" font-size=\"14.00\" fill=\"#000000\">value = [18, 0]</text>\n",
       "</g>\n",
       "<!-- 7&#45;&gt;13 -->\n",
       "<g id=\"edge13\" class=\"edge\">\n",
       "<title>7&#45;&gt;13</title>\n",
       "<path fill=\"none\" stroke=\"#000000\" d=\"M472.1907,-504.9465C484.4278,-493.2707 498.107,-480.219 510.3046,-468.5809\"/>\n",
       "<polygon fill=\"#000000\" stroke=\"#000000\" points=\"512.8628,-470.9777 517.6818,-461.5422 508.0306,-465.9131 512.8628,-470.9777\"/>\n",
       "</g>\n",
       "<!-- 9 -->\n",
       "<g id=\"node10\" class=\"node\">\n",
       "<title>9</title>\n",
       "<path fill=\"#c1e0f7\" stroke=\"#000000\" d=\"M403.5,-365C403.5,-365 311.5,-365 311.5,-365 305.5,-365 299.5,-359 299.5,-353 299.5,-353 299.5,-309 299.5,-309 299.5,-303 305.5,-297 311.5,-297 311.5,-297 403.5,-297 403.5,-297 409.5,-297 415.5,-303 415.5,-309 415.5,-309 415.5,-353 415.5,-353 415.5,-359 409.5,-365 403.5,-365\"/>\n",
       "<text text-anchor=\"start\" x=\"310\" y=\"-349.8\" font-family=\"Helvetica,sans-Serif\" font-size=\"14.00\" fill=\"#000000\">stalk&#45;root ≤ 0.5</text>\n",
       "<text text-anchor=\"start\" x=\"319.5\" y=\"-334.8\" font-family=\"Helvetica,sans-Serif\" font-size=\"14.00\" fill=\"#000000\">gini = 0.483</text>\n",
       "<text text-anchor=\"start\" x=\"313.5\" y=\"-319.8\" font-family=\"Helvetica,sans-Serif\" font-size=\"14.00\" fill=\"#000000\">samples = 27</text>\n",
       "<text text-anchor=\"start\" x=\"307.5\" y=\"-304.8\" font-family=\"Helvetica,sans-Serif\" font-size=\"14.00\" fill=\"#000000\">value = [11, 16]</text>\n",
       "</g>\n",
       "<!-- 8&#45;&gt;9 -->\n",
       "<g id=\"edge9\" class=\"edge\">\n",
       "<title>8&#45;&gt;9</title>\n",
       "<path fill=\"none\" stroke=\"#000000\" d=\"M366.2433,-400.9465C365.2108,-392.6863 364.0922,-383.7374 363.0109,-375.0875\"/>\n",
       "<polygon fill=\"#000000\" stroke=\"#000000\" points=\"366.4797,-374.6186 361.7662,-365.13 359.5337,-375.4869 366.4797,-374.6186\"/>\n",
       "</g>\n",
       "<!-- 12 -->\n",
       "<g id=\"node13\" class=\"node\">\n",
       "<title>12</title>\n",
       "<path fill=\"#399de5\" stroke=\"#000000\" d=\"M545.5,-357.5C545.5,-357.5 445.5,-357.5 445.5,-357.5 439.5,-357.5 433.5,-351.5 433.5,-345.5 433.5,-345.5 433.5,-316.5 433.5,-316.5 433.5,-310.5 439.5,-304.5 445.5,-304.5 445.5,-304.5 545.5,-304.5 545.5,-304.5 551.5,-304.5 557.5,-310.5 557.5,-316.5 557.5,-316.5 557.5,-345.5 557.5,-345.5 557.5,-351.5 551.5,-357.5 545.5,-357.5\"/>\n",
       "<text text-anchor=\"start\" x=\"466\" y=\"-342.3\" font-family=\"Helvetica,sans-Serif\" font-size=\"14.00\" fill=\"#000000\">gini = 0.0</text>\n",
       "<text text-anchor=\"start\" x=\"443.5\" y=\"-327.3\" font-family=\"Helvetica,sans-Serif\" font-size=\"14.00\" fill=\"#000000\">samples = 2115</text>\n",
       "<text text-anchor=\"start\" x=\"441.5\" y=\"-312.3\" font-family=\"Helvetica,sans-Serif\" font-size=\"14.00\" fill=\"#000000\">value = [0, 2115]</text>\n",
       "</g>\n",
       "<!-- 8&#45;&gt;12 -->\n",
       "<g id=\"edge12\" class=\"edge\">\n",
       "<title>8&#45;&gt;12</title>\n",
       "<path fill=\"none\" stroke=\"#000000\" d=\"M411.4297,-400.9465C425.5955,-389.1606 441.4463,-375.9726 455.5338,-364.2519\"/>\n",
       "<polygon fill=\"#000000\" stroke=\"#000000\" points=\"458.1496,-366.6285 463.5984,-357.5422 453.6725,-361.2474 458.1496,-366.6285\"/>\n",
       "</g>\n",
       "<!-- 10 -->\n",
       "<g id=\"node11\" class=\"node\">\n",
       "<title>10</title>\n",
       "<path fill=\"#e58139\" stroke=\"#000000\" d=\"M336,-253.5C336,-253.5 253,-253.5 253,-253.5 247,-253.5 241,-247.5 241,-241.5 241,-241.5 241,-212.5 241,-212.5 241,-206.5 247,-200.5 253,-200.5 253,-200.5 336,-200.5 336,-200.5 342,-200.5 348,-206.5 348,-212.5 348,-212.5 348,-241.5 348,-241.5 348,-247.5 342,-253.5 336,-253.5\"/>\n",
       "<text text-anchor=\"start\" x=\"265\" y=\"-238.3\" font-family=\"Helvetica,sans-Serif\" font-size=\"14.00\" fill=\"#000000\">gini = 0.0</text>\n",
       "<text text-anchor=\"start\" x=\"250.5\" y=\"-223.3\" font-family=\"Helvetica,sans-Serif\" font-size=\"14.00\" fill=\"#000000\">samples = 11</text>\n",
       "<text text-anchor=\"start\" x=\"249\" y=\"-208.3\" font-family=\"Helvetica,sans-Serif\" font-size=\"14.00\" fill=\"#000000\">value = [11, 0]</text>\n",
       "</g>\n",
       "<!-- 9&#45;&gt;10 -->\n",
       "<g id=\"edge10\" class=\"edge\">\n",
       "<title>9&#45;&gt;10</title>\n",
       "<path fill=\"none\" stroke=\"#000000\" d=\"M336.8714,-296.9465C330.1322,-285.8215 322.6363,-273.4473 315.8455,-262.237\"/>\n",
       "<polygon fill=\"#000000\" stroke=\"#000000\" points=\"318.7533,-260.2818 310.5784,-253.5422 312.7661,-263.9087 318.7533,-260.2818\"/>\n",
       "</g>\n",
       "<!-- 11 -->\n",
       "<g id=\"node12\" class=\"node\">\n",
       "<title>11</title>\n",
       "<path fill=\"#399de5\" stroke=\"#000000\" d=\"M461,-253.5C461,-253.5 378,-253.5 378,-253.5 372,-253.5 366,-247.5 366,-241.5 366,-241.5 366,-212.5 366,-212.5 366,-206.5 372,-200.5 378,-200.5 378,-200.5 461,-200.5 461,-200.5 467,-200.5 473,-206.5 473,-212.5 473,-212.5 473,-241.5 473,-241.5 473,-247.5 467,-253.5 461,-253.5\"/>\n",
       "<text text-anchor=\"start\" x=\"390\" y=\"-238.3\" font-family=\"Helvetica,sans-Serif\" font-size=\"14.00\" fill=\"#000000\">gini = 0.0</text>\n",
       "<text text-anchor=\"start\" x=\"375.5\" y=\"-223.3\" font-family=\"Helvetica,sans-Serif\" font-size=\"14.00\" fill=\"#000000\">samples = 16</text>\n",
       "<text text-anchor=\"start\" x=\"374\" y=\"-208.3\" font-family=\"Helvetica,sans-Serif\" font-size=\"14.00\" fill=\"#000000\">value = [0, 16]</text>\n",
       "</g>\n",
       "<!-- 9&#45;&gt;11 -->\n",
       "<g id=\"edge11\" class=\"edge\">\n",
       "<title>9&#45;&gt;11</title>\n",
       "<path fill=\"none\" stroke=\"#000000\" d=\"M377.8011,-296.9465C384.4334,-285.8215 391.8103,-273.4473 398.4933,-262.237\"/>\n",
       "<polygon fill=\"#000000\" stroke=\"#000000\" points=\"401.5624,-263.9239 403.6768,-253.5422 395.5498,-260.3394 401.5624,-263.9239\"/>\n",
       "</g>\n",
       "<!-- 15 -->\n",
       "<g id=\"node16\" class=\"node\">\n",
       "<title>15</title>\n",
       "<path fill=\"#52a9e8\" stroke=\"#000000\" d=\"M785.5,-573C785.5,-573 685.5,-573 685.5,-573 679.5,-573 673.5,-567 673.5,-561 673.5,-561 673.5,-517 673.5,-517 673.5,-511 679.5,-505 685.5,-505 685.5,-505 785.5,-505 785.5,-505 791.5,-505 797.5,-511 797.5,-517 797.5,-517 797.5,-561 797.5,-561 797.5,-567 791.5,-573 785.5,-573\"/>\n",
       "<text text-anchor=\"start\" x=\"688\" y=\"-557.8\" font-family=\"Helvetica,sans-Serif\" font-size=\"14.00\" fill=\"#000000\">stalk&#45;root ≤ 0.5</text>\n",
       "<text text-anchor=\"start\" x=\"697.5\" y=\"-542.8\" font-family=\"Helvetica,sans-Serif\" font-size=\"14.00\" fill=\"#000000\">gini = 0.198</text>\n",
       "<text text-anchor=\"start\" x=\"687.5\" y=\"-527.8\" font-family=\"Helvetica,sans-Serif\" font-size=\"14.00\" fill=\"#000000\">samples = 556</text>\n",
       "<text text-anchor=\"start\" x=\"681.5\" y=\"-512.8\" font-family=\"Helvetica,sans-Serif\" font-size=\"14.00\" fill=\"#000000\">value = [62, 494]</text>\n",
       "</g>\n",
       "<!-- 14&#45;&gt;15 -->\n",
       "<g id=\"edge15\" class=\"edge\">\n",
       "<title>14&#45;&gt;15</title>\n",
       "<path fill=\"none\" stroke=\"#000000\" d=\"M735.5,-608.9465C735.5,-600.776 735.5,-591.9318 735.5,-583.3697\"/>\n",
       "<polygon fill=\"#000000\" stroke=\"#000000\" points=\"739.0001,-583.13 735.5,-573.13 732.0001,-583.13 739.0001,-583.13\"/>\n",
       "</g>\n",
       "<!-- 18 -->\n",
       "<g id=\"node19\" class=\"node\">\n",
       "<title>18</title>\n",
       "<path fill=\"#e99457\" stroke=\"#000000\" d=\"M1030.5,-573C1030.5,-573 914.5,-573 914.5,-573 908.5,-573 902.5,-567 902.5,-561 902.5,-561 902.5,-517 902.5,-517 902.5,-511 908.5,-505 914.5,-505 914.5,-505 1030.5,-505 1030.5,-505 1036.5,-505 1042.5,-511 1042.5,-517 1042.5,-517 1042.5,-561 1042.5,-561 1042.5,-567 1036.5,-573 1030.5,-573\"/>\n",
       "<text text-anchor=\"start\" x=\"930.5\" y=\"-557.8\" font-family=\"Helvetica,sans-Serif\" font-size=\"14.00\" fill=\"#000000\">gill&#45;size ≤ 0.5</text>\n",
       "<text text-anchor=\"start\" x=\"934.5\" y=\"-542.8\" font-family=\"Helvetica,sans-Serif\" font-size=\"14.00\" fill=\"#000000\">gini = 0.227</text>\n",
       "<text text-anchor=\"start\" x=\"920.5\" y=\"-527.8\" font-family=\"Helvetica,sans-Serif\" font-size=\"14.00\" fill=\"#000000\">samples = 3308</text>\n",
       "<text text-anchor=\"start\" x=\"910.5\" y=\"-512.8\" font-family=\"Helvetica,sans-Serif\" font-size=\"14.00\" fill=\"#000000\">value = [2877, 431]</text>\n",
       "</g>\n",
       "<!-- 14&#45;&gt;18 -->\n",
       "<g id=\"edge18\" class=\"edge\">\n",
       "<title>14&#45;&gt;18</title>\n",
       "<path fill=\"none\" stroke=\"#000000\" d=\"M813.1027,-608.9465C838.7123,-597.7085 867.2266,-585.1959 892.9775,-573.896\"/>\n",
       "<polygon fill=\"#000000\" stroke=\"#000000\" points=\"894.5784,-577.0157 902.3291,-569.7923 891.7656,-570.6057 894.5784,-577.0157\"/>\n",
       "</g>\n",
       "<!-- 16 -->\n",
       "<g id=\"node17\" class=\"node\">\n",
       "<title>16</title>\n",
       "<path fill=\"#e58139\" stroke=\"#000000\" d=\"M712,-461.5C712,-461.5 629,-461.5 629,-461.5 623,-461.5 617,-455.5 617,-449.5 617,-449.5 617,-420.5 617,-420.5 617,-414.5 623,-408.5 629,-408.5 629,-408.5 712,-408.5 712,-408.5 718,-408.5 724,-414.5 724,-420.5 724,-420.5 724,-449.5 724,-449.5 724,-455.5 718,-461.5 712,-461.5\"/>\n",
       "<text text-anchor=\"start\" x=\"641\" y=\"-446.3\" font-family=\"Helvetica,sans-Serif\" font-size=\"14.00\" fill=\"#000000\">gini = 0.0</text>\n",
       "<text text-anchor=\"start\" x=\"626.5\" y=\"-431.3\" font-family=\"Helvetica,sans-Serif\" font-size=\"14.00\" fill=\"#000000\">samples = 62</text>\n",
       "<text text-anchor=\"start\" x=\"625\" y=\"-416.3\" font-family=\"Helvetica,sans-Serif\" font-size=\"14.00\" fill=\"#000000\">value = [62, 0]</text>\n",
       "</g>\n",
       "<!-- 15&#45;&gt;16 -->\n",
       "<g id=\"edge16\" class=\"edge\">\n",
       "<title>15&#45;&gt;16</title>\n",
       "<path fill=\"none\" stroke=\"#000000\" d=\"M714.2166,-504.9465C707.2634,-493.8215 699.5295,-481.4473 692.5231,-470.237\"/>\n",
       "<polygon fill=\"#000000\" stroke=\"#000000\" points=\"695.3569,-468.1671 687.0889,-461.5422 689.4209,-471.8772 695.3569,-468.1671\"/>\n",
       "</g>\n",
       "<!-- 17 -->\n",
       "<g id=\"node18\" class=\"node\">\n",
       "<title>17</title>\n",
       "<path fill=\"#399de5\" stroke=\"#000000\" d=\"M846.5,-461.5C846.5,-461.5 754.5,-461.5 754.5,-461.5 748.5,-461.5 742.5,-455.5 742.5,-449.5 742.5,-449.5 742.5,-420.5 742.5,-420.5 742.5,-414.5 748.5,-408.5 754.5,-408.5 754.5,-408.5 846.5,-408.5 846.5,-408.5 852.5,-408.5 858.5,-414.5 858.5,-420.5 858.5,-420.5 858.5,-449.5 858.5,-449.5 858.5,-455.5 852.5,-461.5 846.5,-461.5\"/>\n",
       "<text text-anchor=\"start\" x=\"771\" y=\"-446.3\" font-family=\"Helvetica,sans-Serif\" font-size=\"14.00\" fill=\"#000000\">gini = 0.0</text>\n",
       "<text text-anchor=\"start\" x=\"752.5\" y=\"-431.3\" font-family=\"Helvetica,sans-Serif\" font-size=\"14.00\" fill=\"#000000\">samples = 494</text>\n",
       "<text text-anchor=\"start\" x=\"750.5\" y=\"-416.3\" font-family=\"Helvetica,sans-Serif\" font-size=\"14.00\" fill=\"#000000\">value = [0, 494]</text>\n",
       "</g>\n",
       "<!-- 15&#45;&gt;17 -->\n",
       "<g id=\"edge17\" class=\"edge\">\n",
       "<title>15&#45;&gt;17</title>\n",
       "<path fill=\"none\" stroke=\"#000000\" d=\"M756.7834,-504.9465C763.7366,-493.8215 771.4705,-481.4473 778.4769,-470.237\"/>\n",
       "<polygon fill=\"#000000\" stroke=\"#000000\" points=\"781.5791,-471.8772 783.9111,-461.5422 775.6431,-468.1671 781.5791,-471.8772\"/>\n",
       "</g>\n",
       "<!-- 19 -->\n",
       "<g id=\"node20\" class=\"node\">\n",
       "<title>19</title>\n",
       "<path fill=\"#e6843e\" stroke=\"#000000\" d=\"M1056,-469C1056,-469 889,-469 889,-469 883,-469 877,-463 877,-457 877,-457 877,-413 877,-413 877,-407 883,-401 889,-401 889,-401 1056,-401 1056,-401 1062,-401 1068,-407 1068,-413 1068,-413 1068,-457 1068,-457 1068,-463 1062,-469 1056,-469\"/>\n",
       "<text text-anchor=\"start\" x=\"885\" y=\"-453.8\" font-family=\"Helvetica,sans-Serif\" font-size=\"14.00\" fill=\"#000000\">stalk&#45;color&#45;above&#45;ring ≤ 1.5</text>\n",
       "<text text-anchor=\"start\" x=\"934.5\" y=\"-438.8\" font-family=\"Helvetica,sans-Serif\" font-size=\"14.00\" fill=\"#000000\">gini = 0.049</text>\n",
       "<text text-anchor=\"start\" x=\"920.5\" y=\"-423.8\" font-family=\"Helvetica,sans-Serif\" font-size=\"14.00\" fill=\"#000000\">samples = 2767</text>\n",
       "<text text-anchor=\"start\" x=\"914.5\" y=\"-408.8\" font-family=\"Helvetica,sans-Serif\" font-size=\"14.00\" fill=\"#000000\">value = [2698, 69]</text>\n",
       "</g>\n",
       "<!-- 18&#45;&gt;19 -->\n",
       "<g id=\"edge19\" class=\"edge\">\n",
       "<title>18&#45;&gt;19</title>\n",
       "<path fill=\"none\" stroke=\"#000000\" d=\"M972.5,-504.9465C972.5,-496.776 972.5,-487.9318 972.5,-479.3697\"/>\n",
       "<polygon fill=\"#000000\" stroke=\"#000000\" points=\"976.0001,-479.13 972.5,-469.13 969.0001,-479.13 976.0001,-479.13\"/>\n",
       "</g>\n",
       "<!-- 30 -->\n",
       "<g id=\"node31\" class=\"node\">\n",
       "<title>30</title>\n",
       "<path fill=\"#9bcdf2\" stroke=\"#000000\" d=\"M1206.5,-469C1206.5,-469 1098.5,-469 1098.5,-469 1092.5,-469 1086.5,-463 1086.5,-457 1086.5,-457 1086.5,-413 1086.5,-413 1086.5,-407 1092.5,-401 1098.5,-401 1098.5,-401 1206.5,-401 1206.5,-401 1212.5,-401 1218.5,-407 1218.5,-413 1218.5,-413 1218.5,-457 1218.5,-457 1218.5,-463 1212.5,-469 1206.5,-469\"/>\n",
       "<text text-anchor=\"start\" x=\"1097\" y=\"-453.8\" font-family=\"Helvetica,sans-Serif\" font-size=\"14.00\" fill=\"#000000\">stalk&#45;shape ≤ 0.5</text>\n",
       "<text text-anchor=\"start\" x=\"1114.5\" y=\"-438.8\" font-family=\"Helvetica,sans-Serif\" font-size=\"14.00\" fill=\"#000000\">gini = 0.443</text>\n",
       "<text text-anchor=\"start\" x=\"1104.5\" y=\"-423.8\" font-family=\"Helvetica,sans-Serif\" font-size=\"14.00\" fill=\"#000000\">samples = 541</text>\n",
       "<text text-anchor=\"start\" x=\"1094.5\" y=\"-408.8\" font-family=\"Helvetica,sans-Serif\" font-size=\"14.00\" fill=\"#000000\">value = [179, 362]</text>\n",
       "</g>\n",
       "<!-- 18&#45;&gt;30 -->\n",
       "<g id=\"edge30\" class=\"edge\">\n",
       "<title>18&#45;&gt;30</title>\n",
       "<path fill=\"none\" stroke=\"#000000\" d=\"M1031.4387,-504.9465C1048.3771,-495.1599 1066.9885,-484.4066 1084.4299,-474.3294\"/>\n",
       "<polygon fill=\"#000000\" stroke=\"#000000\" points=\"1086.5212,-477.1634 1093.4289,-469.13 1083.0192,-471.1023 1086.5212,-477.1634\"/>\n",
       "</g>\n",
       "<!-- 20 -->\n",
       "<g id=\"node21\" class=\"node\">\n",
       "<title>20</title>\n",
       "<path fill=\"#399de5\" stroke=\"#000000\" d=\"M880,-357.5C880,-357.5 797,-357.5 797,-357.5 791,-357.5 785,-351.5 785,-345.5 785,-345.5 785,-316.5 785,-316.5 785,-310.5 791,-304.5 797,-304.5 797,-304.5 880,-304.5 880,-304.5 886,-304.5 892,-310.5 892,-316.5 892,-316.5 892,-345.5 892,-345.5 892,-351.5 886,-357.5 880,-357.5\"/>\n",
       "<text text-anchor=\"start\" x=\"809\" y=\"-342.3\" font-family=\"Helvetica,sans-Serif\" font-size=\"14.00\" fill=\"#000000\">gini = 0.0</text>\n",
       "<text text-anchor=\"start\" x=\"794.5\" y=\"-327.3\" font-family=\"Helvetica,sans-Serif\" font-size=\"14.00\" fill=\"#000000\">samples = 31</text>\n",
       "<text text-anchor=\"start\" x=\"793\" y=\"-312.3\" font-family=\"Helvetica,sans-Serif\" font-size=\"14.00\" fill=\"#000000\">value = [0, 31]</text>\n",
       "</g>\n",
       "<!-- 19&#45;&gt;20 -->\n",
       "<g id=\"edge20\" class=\"edge\">\n",
       "<title>19&#45;&gt;20</title>\n",
       "<path fill=\"none\" stroke=\"#000000\" d=\"M928.6234,-400.9465C913.2957,-389.0504 896.1277,-375.726 880.9209,-363.9237\"/>\n",
       "<polygon fill=\"#000000\" stroke=\"#000000\" points=\"882.7444,-360.9085 872.6986,-357.5422 878.4525,-366.4384 882.7444,-360.9085\"/>\n",
       "</g>\n",
       "<!-- 21 -->\n",
       "<g id=\"node22\" class=\"node\">\n",
       "<title>21</title>\n",
       "<path fill=\"#e5833c\" stroke=\"#000000\" d=\"M1030.5,-365C1030.5,-365 922.5,-365 922.5,-365 916.5,-365 910.5,-359 910.5,-353 910.5,-353 910.5,-309 910.5,-309 910.5,-303 916.5,-297 922.5,-297 922.5,-297 1030.5,-297 1030.5,-297 1036.5,-297 1042.5,-303 1042.5,-309 1042.5,-309 1042.5,-353 1042.5,-353 1042.5,-359 1036.5,-365 1030.5,-365\"/>\n",
       "<text text-anchor=\"start\" x=\"928.5\" y=\"-349.8\" font-family=\"Helvetica,sans-Serif\" font-size=\"14.00\" fill=\"#000000\">cap&#45;color ≤ 0.5</text>\n",
       "<text text-anchor=\"start\" x=\"938.5\" y=\"-334.8\" font-family=\"Helvetica,sans-Serif\" font-size=\"14.00\" fill=\"#000000\">gini = 0.027</text>\n",
       "<text text-anchor=\"start\" x=\"924.5\" y=\"-319.8\" font-family=\"Helvetica,sans-Serif\" font-size=\"14.00\" fill=\"#000000\">samples = 2736</text>\n",
       "<text text-anchor=\"start\" x=\"918.5\" y=\"-304.8\" font-family=\"Helvetica,sans-Serif\" font-size=\"14.00\" fill=\"#000000\">value = [2698, 38]</text>\n",
       "</g>\n",
       "<!-- 19&#45;&gt;21 -->\n",
       "<g id=\"edge21\" class=\"edge\">\n",
       "<title>19&#45;&gt;21</title>\n",
       "<path fill=\"none\" stroke=\"#000000\" d=\"M973.8097,-400.9465C974.124,-392.776 974.4642,-383.9318 974.7935,-375.3697\"/>\n",
       "<polygon fill=\"#000000\" stroke=\"#000000\" points=\"978.3003,-375.2572 975.1873,-365.13 971.3055,-374.9881 978.3003,-375.2572\"/>\n",
       "</g>\n",
       "<!-- 22 -->\n",
       "<g id=\"node23\" class=\"node\">\n",
       "<title>22</title>\n",
       "<path fill=\"#fbeade\" stroke=\"#000000\" d=\"M882,-261C882,-261 749,-261 749,-261 743,-261 737,-255 737,-249 737,-249 737,-205 737,-205 737,-199 743,-193 749,-193 749,-193 882,-193 882,-193 888,-193 894,-199 894,-205 894,-205 894,-249 894,-249 894,-255 888,-261 882,-261\"/>\n",
       "<text text-anchor=\"start\" x=\"745\" y=\"-245.8\" font-family=\"Helvetica,sans-Serif\" font-size=\"14.00\" fill=\"#000000\">spore&#45;print&#45;color ≤ 6.0</text>\n",
       "<text text-anchor=\"start\" x=\"777.5\" y=\"-230.8\" font-family=\"Helvetica,sans-Serif\" font-size=\"14.00\" fill=\"#000000\">gini = 0.496</text>\n",
       "<text text-anchor=\"start\" x=\"771.5\" y=\"-215.8\" font-family=\"Helvetica,sans-Serif\" font-size=\"14.00\" fill=\"#000000\">samples = 33</text>\n",
       "<text text-anchor=\"start\" x=\"765.5\" y=\"-200.8\" font-family=\"Helvetica,sans-Serif\" font-size=\"14.00\" fill=\"#000000\">value = [18, 15]</text>\n",
       "</g>\n",
       "<!-- 21&#45;&gt;22 -->\n",
       "<g id=\"edge22\" class=\"edge\">\n",
       "<title>21&#45;&gt;22</title>\n",
       "<path fill=\"none\" stroke=\"#000000\" d=\"M923.7826,-296.9465C908.7712,-287.2497 892.2906,-276.6039 876.8146,-266.6069\"/>\n",
       "<polygon fill=\"#000000\" stroke=\"#000000\" points=\"878.6349,-263.6161 868.3359,-261.13 874.8367,-269.496 878.6349,-263.6161\"/>\n",
       "</g>\n",
       "<!-- 25 -->\n",
       "<g id=\"node26\" class=\"node\">\n",
       "<title>25</title>\n",
       "<path fill=\"#e5823b\" stroke=\"#000000\" d=\"M1032.5,-261C1032.5,-261 924.5,-261 924.5,-261 918.5,-261 912.5,-255 912.5,-249 912.5,-249 912.5,-205 912.5,-205 912.5,-199 918.5,-193 924.5,-193 924.5,-193 1032.5,-193 1032.5,-193 1038.5,-193 1044.5,-199 1044.5,-205 1044.5,-205 1044.5,-249 1044.5,-249 1044.5,-255 1038.5,-261 1032.5,-261\"/>\n",
       "<text text-anchor=\"start\" x=\"921.5\" y=\"-245.8\" font-family=\"Helvetica,sans-Serif\" font-size=\"14.00\" fill=\"#000000\">ring&#45;number ≤ 1.5</text>\n",
       "<text text-anchor=\"start\" x=\"940.5\" y=\"-230.8\" font-family=\"Helvetica,sans-Serif\" font-size=\"14.00\" fill=\"#000000\">gini = 0.017</text>\n",
       "<text text-anchor=\"start\" x=\"926.5\" y=\"-215.8\" font-family=\"Helvetica,sans-Serif\" font-size=\"14.00\" fill=\"#000000\">samples = 2703</text>\n",
       "<text text-anchor=\"start\" x=\"920.5\" y=\"-200.8\" font-family=\"Helvetica,sans-Serif\" font-size=\"14.00\" fill=\"#000000\">value = [2680, 23]</text>\n",
       "</g>\n",
       "<!-- 21&#45;&gt;25 -->\n",
       "<g id=\"edge25\" class=\"edge\">\n",
       "<title>21&#45;&gt;25</title>\n",
       "<path fill=\"none\" stroke=\"#000000\" d=\"M977.1549,-296.9465C977.312,-288.776 977.4821,-279.9318 977.6467,-271.3697\"/>\n",
       "<polygon fill=\"#000000\" stroke=\"#000000\" points=\"981.1506,-271.1955 977.8437,-261.13 974.1519,-271.0608 981.1506,-271.1955\"/>\n",
       "</g>\n",
       "<!-- 23 -->\n",
       "<g id=\"node24\" class=\"node\">\n",
       "<title>23</title>\n",
       "<path fill=\"#399de5\" stroke=\"#000000\" d=\"M740,-149.5C740,-149.5 657,-149.5 657,-149.5 651,-149.5 645,-143.5 645,-137.5 645,-137.5 645,-108.5 645,-108.5 645,-102.5 651,-96.5 657,-96.5 657,-96.5 740,-96.5 740,-96.5 746,-96.5 752,-102.5 752,-108.5 752,-108.5 752,-137.5 752,-137.5 752,-143.5 746,-149.5 740,-149.5\"/>\n",
       "<text text-anchor=\"start\" x=\"669\" y=\"-134.3\" font-family=\"Helvetica,sans-Serif\" font-size=\"14.00\" fill=\"#000000\">gini = 0.0</text>\n",
       "<text text-anchor=\"start\" x=\"654.5\" y=\"-119.3\" font-family=\"Helvetica,sans-Serif\" font-size=\"14.00\" fill=\"#000000\">samples = 15</text>\n",
       "<text text-anchor=\"start\" x=\"653\" y=\"-104.3\" font-family=\"Helvetica,sans-Serif\" font-size=\"14.00\" fill=\"#000000\">value = [0, 15]</text>\n",
       "</g>\n",
       "<!-- 22&#45;&gt;23 -->\n",
       "<g id=\"edge23\" class=\"edge\">\n",
       "<title>22&#45;&gt;23</title>\n",
       "<path fill=\"none\" stroke=\"#000000\" d=\"M777.1898,-192.9465C763.9306,-181.1606 749.0942,-167.9726 735.9084,-156.2519\"/>\n",
       "<polygon fill=\"#000000\" stroke=\"#000000\" points=\"738.1593,-153.5699 728.3599,-149.5422 733.5088,-158.8018 738.1593,-153.5699\"/>\n",
       "</g>\n",
       "<!-- 24 -->\n",
       "<g id=\"node25\" class=\"node\">\n",
       "<title>24</title>\n",
       "<path fill=\"#e58139\" stroke=\"#000000\" d=\"M865,-149.5C865,-149.5 782,-149.5 782,-149.5 776,-149.5 770,-143.5 770,-137.5 770,-137.5 770,-108.5 770,-108.5 770,-102.5 776,-96.5 782,-96.5 782,-96.5 865,-96.5 865,-96.5 871,-96.5 877,-102.5 877,-108.5 877,-108.5 877,-137.5 877,-137.5 877,-143.5 871,-149.5 865,-149.5\"/>\n",
       "<text text-anchor=\"start\" x=\"794\" y=\"-134.3\" font-family=\"Helvetica,sans-Serif\" font-size=\"14.00\" fill=\"#000000\">gini = 0.0</text>\n",
       "<text text-anchor=\"start\" x=\"779.5\" y=\"-119.3\" font-family=\"Helvetica,sans-Serif\" font-size=\"14.00\" fill=\"#000000\">samples = 18</text>\n",
       "<text text-anchor=\"start\" x=\"778\" y=\"-104.3\" font-family=\"Helvetica,sans-Serif\" font-size=\"14.00\" fill=\"#000000\">value = [18, 0]</text>\n",
       "</g>\n",
       "<!-- 22&#45;&gt;24 -->\n",
       "<g id=\"edge24\" class=\"edge\">\n",
       "<title>22&#45;&gt;24</title>\n",
       "<path fill=\"none\" stroke=\"#000000\" d=\"M818.1195,-192.9465C818.9414,-182.2621 819.8519,-170.4254 820.6866,-159.5742\"/>\n",
       "<polygon fill=\"#000000\" stroke=\"#000000\" points=\"824.1809,-159.7812 821.4583,-149.5422 817.2015,-159.2442 824.1809,-159.7812\"/>\n",
       "</g>\n",
       "<!-- 26 -->\n",
       "<g id=\"node27\" class=\"node\">\n",
       "<title>26</title>\n",
       "<path fill=\"#e58139\" stroke=\"#000000\" d=\"M1021.5,-149.5C1021.5,-149.5 921.5,-149.5 921.5,-149.5 915.5,-149.5 909.5,-143.5 909.5,-137.5 909.5,-137.5 909.5,-108.5 909.5,-108.5 909.5,-102.5 915.5,-96.5 921.5,-96.5 921.5,-96.5 1021.5,-96.5 1021.5,-96.5 1027.5,-96.5 1033.5,-102.5 1033.5,-108.5 1033.5,-108.5 1033.5,-137.5 1033.5,-137.5 1033.5,-143.5 1027.5,-149.5 1021.5,-149.5\"/>\n",
       "<text text-anchor=\"start\" x=\"942\" y=\"-134.3\" font-family=\"Helvetica,sans-Serif\" font-size=\"14.00\" fill=\"#000000\">gini = 0.0</text>\n",
       "<text text-anchor=\"start\" x=\"919.5\" y=\"-119.3\" font-family=\"Helvetica,sans-Serif\" font-size=\"14.00\" fill=\"#000000\">samples = 2436</text>\n",
       "<text text-anchor=\"start\" x=\"917.5\" y=\"-104.3\" font-family=\"Helvetica,sans-Serif\" font-size=\"14.00\" fill=\"#000000\">value = [2436, 0]</text>\n",
       "</g>\n",
       "<!-- 25&#45;&gt;26 -->\n",
       "<g id=\"edge26\" class=\"edge\">\n",
       "<title>25&#45;&gt;26</title>\n",
       "<path fill=\"none\" stroke=\"#000000\" d=\"M976.2079,-192.9465C975.4888,-182.2621 974.6921,-170.4254 973.9617,-159.5742\"/>\n",
       "<polygon fill=\"#000000\" stroke=\"#000000\" points=\"977.4502,-159.2845 973.2865,-149.5422 970.466,-159.7547 977.4502,-159.2845\"/>\n",
       "</g>\n",
       "<!-- 27 -->\n",
       "<g id=\"node28\" class=\"node\">\n",
       "<title>27</title>\n",
       "<path fill=\"#e78d4c\" stroke=\"#000000\" d=\"M1197,-157C1197,-157 1064,-157 1064,-157 1058,-157 1052,-151 1052,-145 1052,-145 1052,-101 1052,-101 1052,-95 1058,-89 1064,-89 1064,-89 1197,-89 1197,-89 1203,-89 1209,-95 1209,-101 1209,-101 1209,-145 1209,-145 1209,-151 1203,-157 1197,-157\"/>\n",
       "<text text-anchor=\"start\" x=\"1060\" y=\"-141.8\" font-family=\"Helvetica,sans-Serif\" font-size=\"14.00\" fill=\"#000000\">spore&#45;print&#45;color ≤ 6.0</text>\n",
       "<text text-anchor=\"start\" x=\"1092.5\" y=\"-126.8\" font-family=\"Helvetica,sans-Serif\" font-size=\"14.00\" fill=\"#000000\">gini = 0.157</text>\n",
       "<text text-anchor=\"start\" x=\"1082.5\" y=\"-111.8\" font-family=\"Helvetica,sans-Serif\" font-size=\"14.00\" fill=\"#000000\">samples = 267</text>\n",
       "<text text-anchor=\"start\" x=\"1076.5\" y=\"-96.8\" font-family=\"Helvetica,sans-Serif\" font-size=\"14.00\" fill=\"#000000\">value = [244, 23]</text>\n",
       "</g>\n",
       "<!-- 25&#45;&gt;27 -->\n",
       "<g id=\"edge27\" class=\"edge\">\n",
       "<title>25&#45;&gt;27</title>\n",
       "<path fill=\"none\" stroke=\"#000000\" d=\"M1028.2705,-192.9465C1042.3115,-183.3395 1057.714,-172.8009 1072.2068,-162.8848\"/>\n",
       "<polygon fill=\"#000000\" stroke=\"#000000\" points=\"1074.341,-165.6655 1080.6177,-157.13 1070.3882,-159.8883 1074.341,-165.6655\"/>\n",
       "</g>\n",
       "<!-- 28 -->\n",
       "<g id=\"node29\" class=\"node\">\n",
       "<title>28</title>\n",
       "<path fill=\"#399de5\" stroke=\"#000000\" d=\"M1047,-53C1047,-53 964,-53 964,-53 958,-53 952,-47 952,-41 952,-41 952,-12 952,-12 952,-6 958,0 964,0 964,0 1047,0 1047,0 1053,0 1059,-6 1059,-12 1059,-12 1059,-41 1059,-41 1059,-47 1053,-53 1047,-53\"/>\n",
       "<text text-anchor=\"start\" x=\"976\" y=\"-37.8\" font-family=\"Helvetica,sans-Serif\" font-size=\"14.00\" fill=\"#000000\">gini = 0.0</text>\n",
       "<text text-anchor=\"start\" x=\"961.5\" y=\"-22.8\" font-family=\"Helvetica,sans-Serif\" font-size=\"14.00\" fill=\"#000000\">samples = 23</text>\n",
       "<text text-anchor=\"start\" x=\"960\" y=\"-7.8\" font-family=\"Helvetica,sans-Serif\" font-size=\"14.00\" fill=\"#000000\">value = [0, 23]</text>\n",
       "</g>\n",
       "<!-- 27&#45;&gt;28 -->\n",
       "<g id=\"edge28\" class=\"edge\">\n",
       "<title>27&#45;&gt;28</title>\n",
       "<path fill=\"none\" stroke=\"#000000\" d=\"M1086.4297,-88.9777C1073.9752,-79.3629 1060.4485,-68.9203 1048.0833,-59.3743\"/>\n",
       "<polygon fill=\"#000000\" stroke=\"#000000\" points=\"1050.2028,-56.5889 1040.1483,-53.2485 1045.9251,-62.1299 1050.2028,-56.5889\"/>\n",
       "</g>\n",
       "<!-- 29 -->\n",
       "<g id=\"node30\" class=\"node\">\n",
       "<title>29</title>\n",
       "<path fill=\"#e58139\" stroke=\"#000000\" d=\"M1181.5,-53C1181.5,-53 1089.5,-53 1089.5,-53 1083.5,-53 1077.5,-47 1077.5,-41 1077.5,-41 1077.5,-12 1077.5,-12 1077.5,-6 1083.5,0 1089.5,0 1089.5,0 1181.5,0 1181.5,0 1187.5,0 1193.5,-6 1193.5,-12 1193.5,-12 1193.5,-41 1193.5,-41 1193.5,-47 1187.5,-53 1181.5,-53\"/>\n",
       "<text text-anchor=\"start\" x=\"1106\" y=\"-37.8\" font-family=\"Helvetica,sans-Serif\" font-size=\"14.00\" fill=\"#000000\">gini = 0.0</text>\n",
       "<text text-anchor=\"start\" x=\"1087.5\" y=\"-22.8\" font-family=\"Helvetica,sans-Serif\" font-size=\"14.00\" fill=\"#000000\">samples = 244</text>\n",
       "<text text-anchor=\"start\" x=\"1085.5\" y=\"-7.8\" font-family=\"Helvetica,sans-Serif\" font-size=\"14.00\" fill=\"#000000\">value = [244, 0]</text>\n",
       "</g>\n",
       "<!-- 27&#45;&gt;29 -->\n",
       "<g id=\"edge29\" class=\"edge\">\n",
       "<title>27&#45;&gt;29</title>\n",
       "<path fill=\"none\" stroke=\"#000000\" d=\"M1132.2628,-88.9777C1132.6946,-80.6449 1133.1585,-71.6903 1133.5966,-63.2364\"/>\n",
       "<polygon fill=\"#000000\" stroke=\"#000000\" points=\"1137.0918,-63.4162 1134.1141,-53.2485 1130.1012,-63.0539 1137.0918,-63.4162\"/>\n",
       "</g>\n",
       "<!-- 31 -->\n",
       "<g id=\"node32\" class=\"node\">\n",
       "<title>31</title>\n",
       "<path fill=\"#71b9ec\" stroke=\"#000000\" d=\"M1204.5,-365C1204.5,-365 1096.5,-365 1096.5,-365 1090.5,-365 1084.5,-359 1084.5,-353 1084.5,-353 1084.5,-309 1084.5,-309 1084.5,-303 1090.5,-297 1096.5,-297 1096.5,-297 1204.5,-297 1204.5,-297 1210.5,-297 1216.5,-303 1216.5,-309 1216.5,-309 1216.5,-353 1216.5,-353 1216.5,-359 1210.5,-365 1204.5,-365\"/>\n",
       "<text text-anchor=\"start\" x=\"1111\" y=\"-349.8\" font-family=\"Helvetica,sans-Serif\" font-size=\"14.00\" fill=\"#000000\">habitat ≤ 1.5</text>\n",
       "<text text-anchor=\"start\" x=\"1112.5\" y=\"-334.8\" font-family=\"Helvetica,sans-Serif\" font-size=\"14.00\" fill=\"#000000\">gini = 0.345</text>\n",
       "<text text-anchor=\"start\" x=\"1102.5\" y=\"-319.8\" font-family=\"Helvetica,sans-Serif\" font-size=\"14.00\" fill=\"#000000\">samples = 465</text>\n",
       "<text text-anchor=\"start\" x=\"1092.5\" y=\"-304.8\" font-family=\"Helvetica,sans-Serif\" font-size=\"14.00\" fill=\"#000000\">value = [103, 362]</text>\n",
       "</g>\n",
       "<!-- 30&#45;&gt;31 -->\n",
       "<g id=\"edge31\" class=\"edge\">\n",
       "<title>30&#45;&gt;31</title>\n",
       "<path fill=\"none\" stroke=\"#000000\" d=\"M1151.8451,-400.9465C1151.688,-392.776 1151.5179,-383.9318 1151.3533,-375.3697\"/>\n",
       "<polygon fill=\"#000000\" stroke=\"#000000\" points=\"1154.8481,-375.0608 1151.1563,-365.13 1147.8494,-375.1955 1154.8481,-375.0608\"/>\n",
       "</g>\n",
       "<!-- 38 -->\n",
       "<g id=\"node39\" class=\"node\">\n",
       "<title>38</title>\n",
       "<path fill=\"#e58139\" stroke=\"#000000\" d=\"M1330,-357.5C1330,-357.5 1247,-357.5 1247,-357.5 1241,-357.5 1235,-351.5 1235,-345.5 1235,-345.5 1235,-316.5 1235,-316.5 1235,-310.5 1241,-304.5 1247,-304.5 1247,-304.5 1330,-304.5 1330,-304.5 1336,-304.5 1342,-310.5 1342,-316.5 1342,-316.5 1342,-345.5 1342,-345.5 1342,-351.5 1336,-357.5 1330,-357.5\"/>\n",
       "<text text-anchor=\"start\" x=\"1259\" y=\"-342.3\" font-family=\"Helvetica,sans-Serif\" font-size=\"14.00\" fill=\"#000000\">gini = 0.0</text>\n",
       "<text text-anchor=\"start\" x=\"1244.5\" y=\"-327.3\" font-family=\"Helvetica,sans-Serif\" font-size=\"14.00\" fill=\"#000000\">samples = 76</text>\n",
       "<text text-anchor=\"start\" x=\"1243\" y=\"-312.3\" font-family=\"Helvetica,sans-Serif\" font-size=\"14.00\" fill=\"#000000\">value = [76, 0]</text>\n",
       "</g>\n",
       "<!-- 30&#45;&gt;38 -->\n",
       "<g id=\"edge38\" class=\"edge\">\n",
       "<title>30&#45;&gt;38</title>\n",
       "<path fill=\"none\" stroke=\"#000000\" d=\"M1197.0315,-400.9465C1212.5879,-389.0504 1230.0121,-375.726 1245.4459,-363.9237\"/>\n",
       "<polygon fill=\"#000000\" stroke=\"#000000\" points=\"1247.9735,-366.397 1253.791,-357.5422 1243.7213,-360.8364 1247.9735,-366.397\"/>\n",
       "</g>\n",
       "<!-- 32 -->\n",
       "<g id=\"node33\" class=\"node\">\n",
       "<title>32</title>\n",
       "<path fill=\"#399de5\" stroke=\"#000000\" d=\"M1192.5,-253.5C1192.5,-253.5 1100.5,-253.5 1100.5,-253.5 1094.5,-253.5 1088.5,-247.5 1088.5,-241.5 1088.5,-241.5 1088.5,-212.5 1088.5,-212.5 1088.5,-206.5 1094.5,-200.5 1100.5,-200.5 1100.5,-200.5 1192.5,-200.5 1192.5,-200.5 1198.5,-200.5 1204.5,-206.5 1204.5,-212.5 1204.5,-212.5 1204.5,-241.5 1204.5,-241.5 1204.5,-247.5 1198.5,-253.5 1192.5,-253.5\"/>\n",
       "<text text-anchor=\"start\" x=\"1117\" y=\"-238.3\" font-family=\"Helvetica,sans-Serif\" font-size=\"14.00\" fill=\"#000000\">gini = 0.0</text>\n",
       "<text text-anchor=\"start\" x=\"1098.5\" y=\"-223.3\" font-family=\"Helvetica,sans-Serif\" font-size=\"14.00\" fill=\"#000000\">samples = 246</text>\n",
       "<text text-anchor=\"start\" x=\"1096.5\" y=\"-208.3\" font-family=\"Helvetica,sans-Serif\" font-size=\"14.00\" fill=\"#000000\">value = [0, 246]</text>\n",
       "</g>\n",
       "<!-- 31&#45;&gt;32 -->\n",
       "<g id=\"edge32\" class=\"edge\">\n",
       "<title>31&#45;&gt;32</title>\n",
       "<path fill=\"none\" stroke=\"#000000\" d=\"M1149.1903,-296.9465C1148.7793,-286.2621 1148.3241,-274.4254 1147.9067,-263.5742\"/>\n",
       "<polygon fill=\"#000000\" stroke=\"#000000\" points=\"1151.4027,-263.4002 1147.5209,-253.5422 1144.4079,-263.6693 1151.4027,-263.4002\"/>\n",
       "</g>\n",
       "<!-- 33 -->\n",
       "<g id=\"node34\" class=\"node\">\n",
       "<title>33</title>\n",
       "<path fill=\"#e9f4fc\" stroke=\"#000000\" d=\"M1342.5,-261C1342.5,-261 1234.5,-261 1234.5,-261 1228.5,-261 1222.5,-255 1222.5,-249 1222.5,-249 1222.5,-205 1222.5,-205 1222.5,-199 1228.5,-193 1234.5,-193 1234.5,-193 1342.5,-193 1342.5,-193 1348.5,-193 1354.5,-199 1354.5,-205 1354.5,-205 1354.5,-249 1354.5,-249 1354.5,-255 1348.5,-261 1342.5,-261\"/>\n",
       "<text text-anchor=\"start\" x=\"1247\" y=\"-245.8\" font-family=\"Helvetica,sans-Serif\" font-size=\"14.00\" fill=\"#000000\">bruises ≤ 0.5</text>\n",
       "<text text-anchor=\"start\" x=\"1250.5\" y=\"-230.8\" font-family=\"Helvetica,sans-Serif\" font-size=\"14.00\" fill=\"#000000\">gini = 0.498</text>\n",
       "<text text-anchor=\"start\" x=\"1240.5\" y=\"-215.8\" font-family=\"Helvetica,sans-Serif\" font-size=\"14.00\" fill=\"#000000\">samples = 219</text>\n",
       "<text text-anchor=\"start\" x=\"1230.5\" y=\"-200.8\" font-family=\"Helvetica,sans-Serif\" font-size=\"14.00\" fill=\"#000000\">value = [103, 116]</text>\n",
       "</g>\n",
       "<!-- 31&#45;&gt;33 -->\n",
       "<g id=\"edge33\" class=\"edge\">\n",
       "<title>31&#45;&gt;33</title>\n",
       "<path fill=\"none\" stroke=\"#000000\" d=\"M1195.6864,-296.9465C1208.315,-287.4293 1222.1567,-276.9978 1235.2068,-267.163\"/>\n",
       "<polygon fill=\"#000000\" stroke=\"#000000\" points=\"1237.3325,-269.9437 1243.2121,-261.13 1233.1195,-264.3534 1237.3325,-269.9437\"/>\n",
       "</g>\n",
       "<!-- 34 -->\n",
       "<g id=\"node35\" class=\"node\">\n",
       "<title>34</title>\n",
       "<path fill=\"#e68743\" stroke=\"#000000\" d=\"M1333.5,-157C1333.5,-157 1241.5,-157 1241.5,-157 1235.5,-157 1229.5,-151 1229.5,-145 1229.5,-145 1229.5,-101 1229.5,-101 1229.5,-95 1235.5,-89 1241.5,-89 1241.5,-89 1333.5,-89 1333.5,-89 1339.5,-89 1345.5,-95 1345.5,-101 1345.5,-101 1345.5,-145 1345.5,-145 1345.5,-151 1339.5,-157 1333.5,-157\"/>\n",
       "<text text-anchor=\"start\" x=\"1240.5\" y=\"-141.8\" font-family=\"Helvetica,sans-Serif\" font-size=\"14.00\" fill=\"#000000\">veil&#45;color ≤ 2.5</text>\n",
       "<text text-anchor=\"start\" x=\"1249.5\" y=\"-126.8\" font-family=\"Helvetica,sans-Serif\" font-size=\"14.00\" fill=\"#000000\">gini = 0.088</text>\n",
       "<text text-anchor=\"start\" x=\"1239.5\" y=\"-111.8\" font-family=\"Helvetica,sans-Serif\" font-size=\"14.00\" fill=\"#000000\">samples = 108</text>\n",
       "<text text-anchor=\"start\" x=\"1237.5\" y=\"-96.8\" font-family=\"Helvetica,sans-Serif\" font-size=\"14.00\" fill=\"#000000\">value = [103, 5]</text>\n",
       "</g>\n",
       "<!-- 33&#45;&gt;34 -->\n",
       "<g id=\"edge34\" class=\"edge\">\n",
       "<title>33&#45;&gt;34</title>\n",
       "<path fill=\"none\" stroke=\"#000000\" d=\"M1288.1726,-192.9465C1288.094,-184.776 1288.009,-175.9318 1287.9266,-167.3697\"/>\n",
       "<polygon fill=\"#000000\" stroke=\"#000000\" points=\"1291.4243,-167.0958 1287.8282,-157.13 1284.4246,-167.1632 1291.4243,-167.0958\"/>\n",
       "</g>\n",
       "<!-- 37 -->\n",
       "<g id=\"node38\" class=\"node\">\n",
       "<title>37</title>\n",
       "<path fill=\"#399de5\" stroke=\"#000000\" d=\"M1467.5,-149.5C1467.5,-149.5 1375.5,-149.5 1375.5,-149.5 1369.5,-149.5 1363.5,-143.5 1363.5,-137.5 1363.5,-137.5 1363.5,-108.5 1363.5,-108.5 1363.5,-102.5 1369.5,-96.5 1375.5,-96.5 1375.5,-96.5 1467.5,-96.5 1467.5,-96.5 1473.5,-96.5 1479.5,-102.5 1479.5,-108.5 1479.5,-108.5 1479.5,-137.5 1479.5,-137.5 1479.5,-143.5 1473.5,-149.5 1467.5,-149.5\"/>\n",
       "<text text-anchor=\"start\" x=\"1392\" y=\"-134.3\" font-family=\"Helvetica,sans-Serif\" font-size=\"14.00\" fill=\"#000000\">gini = 0.0</text>\n",
       "<text text-anchor=\"start\" x=\"1373.5\" y=\"-119.3\" font-family=\"Helvetica,sans-Serif\" font-size=\"14.00\" fill=\"#000000\">samples = 111</text>\n",
       "<text text-anchor=\"start\" x=\"1371.5\" y=\"-104.3\" font-family=\"Helvetica,sans-Serif\" font-size=\"14.00\" fill=\"#000000\">value = [0, 111]</text>\n",
       "</g>\n",
       "<!-- 33&#45;&gt;37 -->\n",
       "<g id=\"edge37\" class=\"edge\">\n",
       "<title>33&#45;&gt;37</title>\n",
       "<path fill=\"none\" stroke=\"#000000\" d=\"M1332.0492,-192.9465C1347.2625,-181.0504 1364.3023,-167.726 1379.3957,-155.9237\"/>\n",
       "<polygon fill=\"#000000\" stroke=\"#000000\" points=\"1381.8351,-158.4592 1387.5567,-149.5422 1377.5231,-152.9449 1381.8351,-158.4592\"/>\n",
       "</g>\n",
       "<!-- 35 -->\n",
       "<g id=\"node36\" class=\"node\">\n",
       "<title>35</title>\n",
       "<path fill=\"#e58139\" stroke=\"#000000\" d=\"M1329.5,-53C1329.5,-53 1237.5,-53 1237.5,-53 1231.5,-53 1225.5,-47 1225.5,-41 1225.5,-41 1225.5,-12 1225.5,-12 1225.5,-6 1231.5,0 1237.5,0 1237.5,0 1329.5,0 1329.5,0 1335.5,0 1341.5,-6 1341.5,-12 1341.5,-12 1341.5,-41 1341.5,-41 1341.5,-47 1335.5,-53 1329.5,-53\"/>\n",
       "<text text-anchor=\"start\" x=\"1254\" y=\"-37.8\" font-family=\"Helvetica,sans-Serif\" font-size=\"14.00\" fill=\"#000000\">gini = 0.0</text>\n",
       "<text text-anchor=\"start\" x=\"1235.5\" y=\"-22.8\" font-family=\"Helvetica,sans-Serif\" font-size=\"14.00\" fill=\"#000000\">samples = 103</text>\n",
       "<text text-anchor=\"start\" x=\"1233.5\" y=\"-7.8\" font-family=\"Helvetica,sans-Serif\" font-size=\"14.00\" fill=\"#000000\">value = [103, 0]</text>\n",
       "</g>\n",
       "<!-- 34&#45;&gt;35 -->\n",
       "<g id=\"edge35\" class=\"edge\">\n",
       "<title>34&#45;&gt;35</title>\n",
       "<path fill=\"none\" stroke=\"#000000\" d=\"M1286.0897,-88.9777C1285.7481,-80.7364 1285.3813,-71.887 1285.0343,-63.5153\"/>\n",
       "<polygon fill=\"#000000\" stroke=\"#000000\" points=\"1288.52,-63.0949 1284.6087,-53.2485 1281.526,-63.3849 1288.52,-63.0949\"/>\n",
       "</g>\n",
       "<!-- 36 -->\n",
       "<g id=\"node37\" class=\"node\">\n",
       "<title>36</title>\n",
       "<path fill=\"#399de5\" stroke=\"#000000\" d=\"M1447,-53C1447,-53 1372,-53 1372,-53 1366,-53 1360,-47 1360,-41 1360,-41 1360,-12 1360,-12 1360,-6 1366,0 1372,0 1372,0 1447,0 1447,0 1453,0 1459,-6 1459,-12 1459,-12 1459,-41 1459,-41 1459,-47 1453,-53 1447,-53\"/>\n",
       "<text text-anchor=\"start\" x=\"1380\" y=\"-37.8\" font-family=\"Helvetica,sans-Serif\" font-size=\"14.00\" fill=\"#000000\">gini = 0.0</text>\n",
       "<text text-anchor=\"start\" x=\"1370\" y=\"-22.8\" font-family=\"Helvetica,sans-Serif\" font-size=\"14.00\" fill=\"#000000\">samples = 5</text>\n",
       "<text text-anchor=\"start\" x=\"1368\" y=\"-7.8\" font-family=\"Helvetica,sans-Serif\" font-size=\"14.00\" fill=\"#000000\">value = [0, 5]</text>\n",
       "</g>\n",
       "<!-- 34&#45;&gt;36 -->\n",
       "<g id=\"edge36\" class=\"edge\">\n",
       "<title>34&#45;&gt;36</title>\n",
       "<path fill=\"none\" stroke=\"#000000\" d=\"M1330.5126,-88.9777C1342.5524,-79.4545 1355.6188,-69.1191 1367.5935,-59.6473\"/>\n",
       "<polygon fill=\"#000000\" stroke=\"#000000\" points=\"1370.0115,-62.1973 1375.6833,-53.2485 1365.6689,-56.7072 1370.0115,-62.1973\"/>\n",
       "</g>\n",
       "</g>\n",
       "</svg>\n"
      ],
      "text/plain": [
       "<graphviz.files.Source at 0x7faaa90300f0>"
      ]
     },
     "execution_count": 20,
     "metadata": {
      "tags": []
     },
     "output_type": "execute_result"
    }
   ],
   "source": [
    "from sklearn import tree # I don't understand why we don't have to one hot encode these numerical values if it still uses the numerical values as actual ordinal values\n",
    ">>> import graphviz \n",
    ">>> dot_data = tree.export_graphviz(tree_, out_file=None) \n",
    ">>> graph = graphviz.Source(dot_data) \n",
    ">>> graph.render(\"mushrooms\") \n",
    "\n",
    ">>> dot_data = tree.export_graphviz(tree_, out_file=None, \n",
    "...                      feature_names=X.columns,\n",
    "...                      filled=True, rounded=True,  \n",
    "...                      special_characters=True)  \n",
    ">>> graph = graphviz.Source(dot_data)  \n",
    ">>> graph \n"
   ]
  },
  {
   "cell_type": "markdown",
   "metadata": {
    "id": "kSdmgUWkJ9TF"
   },
   "source": [
    "# Random Forest"
   ]
  },
  {
   "cell_type": "code",
   "execution_count": null,
   "metadata": {
    "colab": {
     "base_uri": "https://localhost:8080/",
     "height": 310
    },
    "id": "zNvnOGwvKAK7",
    "outputId": "6395dca8-5271-4860-d68e-528d35e8f030"
   },
   "outputs": [
    {
     "name": "stdout",
     "output_type": "stream",
     "text": [
      "Results for training set:\n",
      "Accuracy Score: 1.0000\n",
      "\n",
      "Confusion Matrix:\n",
      "[[3384    0]\n",
      " [   0 3115]]\n",
      "\n",
      "CV accuracy scores: [1. 1. 1. 1. 1. 1. 1. 1. 1. 1.]\n",
      "CV accuracy: 1.000 +/- 0.000\n",
      "\n",
      "Results for testing set:\n",
      "Accuracy Score: 1.0000\n",
      "\n",
      "Confusion Matrix:\n",
      "[[824   0]\n",
      " [  0 801]]\n",
      "\n",
      "0.4379377039999781\n"
     ]
    }
   ],
   "source": [
    "forest = RandomForestClassifier(n_estimators = 10, criterion = 'gini', random_state = 101)\n",
    "forest.fit(X_train, y_train)\n",
    "score(forest, X_train, y_train, X_test, y_test)"
   ]
  },
  {
   "cell_type": "markdown",
   "metadata": {
    "id": "vWWGiYbM5Pg9"
   },
   "source": [
    "# KNN"
   ]
  },
  {
   "cell_type": "code",
   "execution_count": null,
   "metadata": {
    "colab": {
     "base_uri": "https://localhost:8080/",
     "height": 310
    },
    "id": "ltsaHmTd5RmX",
    "outputId": "149241a8-3d20-4bcd-979b-a9c8243f9a81"
   },
   "outputs": [
    {
     "name": "stdout",
     "output_type": "stream",
     "text": [
      "Results for training set:\n",
      "Accuracy Score: 1.0000\n",
      "\n",
      "Confusion Matrix:\n",
      "[[3394    0]\n",
      " [   0 3105]]\n",
      "\n",
      "CV accuracy scores: [1. 1. 1. 1. 1. 1. 1. 1. 1. 1.]\n",
      "CV accuracy: 1.000 +/- 0.000\n",
      "\n",
      "Results for testing set:\n",
      "Accuracy Score: 1.0000\n",
      "\n",
      "Confusion Matrix:\n",
      "[[814   0]\n",
      " [  0 811]]\n",
      "\n",
      "45.77020288699998\n"
     ]
    }
   ],
   "source": [
    "neighbors = KNN(metric='jaccard', n_jobs=-1) # too long so I'll use dimensionality reduction to decrease computing time; I could try using different metrics for binary features using GridSearch,\n",
    "                                             # but I couldn't find information about it taking computing time into consideration, so I gave up that idea as the jaccard metric had high accuracy;\n",
    "                                             # Jaccard distance is computed from one minus the Jaccard coefficient, which is the percentage of nonzero coordinates that differ (N10+N01)/(N11+N10+N01);\n",
    "                                             # it works only for binary features;\n",
    "neighbors.fit(X_train_ohe,y_train_ohe)\n",
    "score(neighbors, X_train_ohe, y_train_ohe, X_test_ohe, y_test_ohe)"
   ]
  },
  {
   "cell_type": "code",
   "execution_count": null,
   "metadata": {
    "colab": {
     "base_uri": "https://localhost:8080/",
     "height": 50
    },
    "id": "lf87S4WTeg3P",
    "outputId": "095b4987-3771-4ed7-b140-da52b3a4620d"
   },
   "outputs": [
    {
     "data": {
      "text/plain": [
       "array([[0. , 0.5],\n",
       "       [0.5, 0. ]])"
      ]
     },
     "execution_count": 23,
     "metadata": {
      "tags": []
     },
     "output_type": "execute_result"
    }
   ],
   "source": [
    "from sklearn.neighbors import DistanceMetric\n",
    "dist = DistanceMetric.get_metric('jaccard') \n",
    "X = [[0,1,2,0], [1,1,1,2]] # does not work for non binary features as we can see\n",
    "dist.pairwise(X)"
   ]
  },
  {
   "cell_type": "code",
   "execution_count": null,
   "metadata": {
    "colab": {
     "base_uri": "https://localhost:8080/",
     "height": 310
    },
    "id": "O_JzlotLCK7n",
    "outputId": "151fdb41-9b8d-4a8b-a064-c9e5b3d7cf98"
   },
   "outputs": [
    {
     "name": "stdout",
     "output_type": "stream",
     "text": [
      "Results for training set:\n",
      "Accuracy Score: 1.0000\n",
      "\n",
      "Confusion Matrix:\n",
      "[[3384    0]\n",
      " [   0 3115]]\n",
      "\n",
      "CV accuracy scores: [1. 1. 1. 1. 1. 1. 1. 1. 1. 1.]\n",
      "CV accuracy: 1.000 +/- 0.000\n",
      "\n",
      "Results for testing set:\n",
      "Accuracy Score: 1.0000\n",
      "\n",
      "Confusion Matrix:\n",
      "[[824   0]\n",
      " [  0 801]]\n",
      "\n",
      "7.605768021000017\n"
     ]
    }
   ],
   "source": [
    "neighbors_ = KNN(metric='hamming', n_jobs=-1) # not sure if it's correct; need to verify whether the metric is appropriate\n",
    "                                   # Hamming  distance is  the  percentage  of coordinates that differ N_inequal/N_all\n",
    "neighbors_.fit(X_train,y_train)\n",
    "score(neighbors_, X_train, y_train, X_test, y_test)"
   ]
  },
  {
   "cell_type": "code",
   "execution_count": null,
   "metadata": {
    "colab": {
     "base_uri": "https://localhost:8080/",
     "height": 50
    },
    "id": "F-ijue1soual",
    "outputId": "1d60bd06-3782-4233-cdb0-fdf28f66daba"
   },
   "outputs": [
    {
     "data": {
      "text/plain": [
       "array([[0.  , 0.75],\n",
       "       [0.75, 0.  ]])"
      ]
     },
     "execution_count": 25,
     "metadata": {
      "tags": []
     },
     "output_type": "execute_result"
    }
   ],
   "source": [
    "dist = DistanceMetric.get_metric('hamming') \n",
    "X = [[0,1,2,0], [1,1,1,2]] # works for non binary features\n",
    "dist.pairwise(X)"
   ]
  },
  {
   "cell_type": "markdown",
   "metadata": {
    "id": "rtIrPRwoBVVy"
   },
   "source": [
    "# Logistic Regression"
   ]
  },
  {
   "cell_type": "code",
   "execution_count": null,
   "metadata": {
    "colab": {
     "base_uri": "https://localhost:8080/",
     "height": 326
    },
    "id": "OSJRpWlcBXZq",
    "outputId": "5120b630-7528-41ff-8011-b9770f88f410"
   },
   "outputs": [
    {
     "name": "stdout",
     "output_type": "stream",
     "text": [
      "Results for training set:\n",
      "Accuracy Score: 1.0000\n",
      "\n",
      "Confusion Matrix:\n",
      "[[3394    0]\n",
      " [   0 3105]]\n",
      "\n",
      "CV accuracy scores: [1.         1.         0.99692308 1.         1.         0.99846154\n",
      " 1.         1.         1.         1.        ]\n",
      "CV accuracy: 1.000 +/- 0.001\n",
      "\n",
      "Results for testing set:\n",
      "Accuracy Score: 1.0000\n",
      "\n",
      "Confusion Matrix:\n",
      "[[814   0]\n",
      " [  0 811]]\n",
      "\n",
      "1.3411129170000322\n"
     ]
    }
   ],
   "source": [
    "log_reg = LogisticRegression(solver='lbfgs') # solver is an algorithm used in optimization the cost function\n",
    "log_reg.fit(X_train_ohe,y_train_ohe)\n",
    "score(log_reg, X_train_ohe, y_train_ohe, X_test_ohe, y_test_ohe)"
   ]
  },
  {
   "cell_type": "code",
   "execution_count": null,
   "metadata": {
    "colab": {
     "base_uri": "https://localhost:8080/",
     "height": 1000
    },
    "id": "Kb30VoWhC8Qz",
    "outputId": "f2826477-08c8-4b45-b7e3-d857a78d1f28"
   },
   "outputs": [
    {
     "name": "stderr",
     "output_type": "stream",
     "text": [
      "/usr/local/lib/python3.6/dist-packages/sklearn/linear_model/_logistic.py:940: ConvergenceWarning: lbfgs failed to converge (status=1):\n",
      "STOP: TOTAL NO. of ITERATIONS REACHED LIMIT.\n",
      "\n",
      "Increase the number of iterations (max_iter) or scale the data as shown in:\n",
      "    https://scikit-learn.org/stable/modules/preprocessing.html\n",
      "Please also refer to the documentation for alternative solver options:\n",
      "    https://scikit-learn.org/stable/modules/linear_model.html#logistic-regression\n",
      "  extra_warning_msg=_LOGISTIC_SOLVER_CONVERGENCE_MSG)\n",
      "/usr/local/lib/python3.6/dist-packages/sklearn/linear_model/_logistic.py:940: ConvergenceWarning: lbfgs failed to converge (status=1):\n",
      "STOP: TOTAL NO. of ITERATIONS REACHED LIMIT.\n",
      "\n",
      "Increase the number of iterations (max_iter) or scale the data as shown in:\n",
      "    https://scikit-learn.org/stable/modules/preprocessing.html\n",
      "Please also refer to the documentation for alternative solver options:\n",
      "    https://scikit-learn.org/stable/modules/linear_model.html#logistic-regression\n",
      "  extra_warning_msg=_LOGISTIC_SOLVER_CONVERGENCE_MSG)\n"
     ]
    },
    {
     "name": "stdout",
     "output_type": "stream",
     "text": [
      "Results for training set:\n",
      "Accuracy Score: 0.9532\n",
      "\n",
      "Confusion Matrix:\n",
      "[[3242  142]\n",
      " [ 162 2953]]\n",
      "\n"
     ]
    },
    {
     "name": "stderr",
     "output_type": "stream",
     "text": [
      "/usr/local/lib/python3.6/dist-packages/sklearn/linear_model/_logistic.py:940: ConvergenceWarning: lbfgs failed to converge (status=1):\n",
      "STOP: TOTAL NO. of ITERATIONS REACHED LIMIT.\n",
      "\n",
      "Increase the number of iterations (max_iter) or scale the data as shown in:\n",
      "    https://scikit-learn.org/stable/modules/preprocessing.html\n",
      "Please also refer to the documentation for alternative solver options:\n",
      "    https://scikit-learn.org/stable/modules/linear_model.html#logistic-regression\n",
      "  extra_warning_msg=_LOGISTIC_SOLVER_CONVERGENCE_MSG)\n",
      "/usr/local/lib/python3.6/dist-packages/sklearn/linear_model/_logistic.py:940: ConvergenceWarning: lbfgs failed to converge (status=1):\n",
      "STOP: TOTAL NO. of ITERATIONS REACHED LIMIT.\n",
      "\n",
      "Increase the number of iterations (max_iter) or scale the data as shown in:\n",
      "    https://scikit-learn.org/stable/modules/preprocessing.html\n",
      "Please also refer to the documentation for alternative solver options:\n",
      "    https://scikit-learn.org/stable/modules/linear_model.html#logistic-regression\n",
      "  extra_warning_msg=_LOGISTIC_SOLVER_CONVERGENCE_MSG)\n",
      "/usr/local/lib/python3.6/dist-packages/sklearn/linear_model/_logistic.py:940: ConvergenceWarning: lbfgs failed to converge (status=1):\n",
      "STOP: TOTAL NO. of ITERATIONS REACHED LIMIT.\n",
      "\n",
      "Increase the number of iterations (max_iter) or scale the data as shown in:\n",
      "    https://scikit-learn.org/stable/modules/preprocessing.html\n",
      "Please also refer to the documentation for alternative solver options:\n",
      "    https://scikit-learn.org/stable/modules/linear_model.html#logistic-regression\n",
      "  extra_warning_msg=_LOGISTIC_SOLVER_CONVERGENCE_MSG)\n",
      "/usr/local/lib/python3.6/dist-packages/sklearn/linear_model/_logistic.py:940: ConvergenceWarning: lbfgs failed to converge (status=1):\n",
      "STOP: TOTAL NO. of ITERATIONS REACHED LIMIT.\n",
      "\n",
      "Increase the number of iterations (max_iter) or scale the data as shown in:\n",
      "    https://scikit-learn.org/stable/modules/preprocessing.html\n",
      "Please also refer to the documentation for alternative solver options:\n",
      "    https://scikit-learn.org/stable/modules/linear_model.html#logistic-regression\n",
      "  extra_warning_msg=_LOGISTIC_SOLVER_CONVERGENCE_MSG)\n",
      "/usr/local/lib/python3.6/dist-packages/sklearn/linear_model/_logistic.py:940: ConvergenceWarning: lbfgs failed to converge (status=1):\n",
      "STOP: TOTAL NO. of ITERATIONS REACHED LIMIT.\n",
      "\n",
      "Increase the number of iterations (max_iter) or scale the data as shown in:\n",
      "    https://scikit-learn.org/stable/modules/preprocessing.html\n",
      "Please also refer to the documentation for alternative solver options:\n",
      "    https://scikit-learn.org/stable/modules/linear_model.html#logistic-regression\n",
      "  extra_warning_msg=_LOGISTIC_SOLVER_CONVERGENCE_MSG)\n",
      "/usr/local/lib/python3.6/dist-packages/sklearn/linear_model/_logistic.py:940: ConvergenceWarning: lbfgs failed to converge (status=1):\n",
      "STOP: TOTAL NO. of ITERATIONS REACHED LIMIT.\n",
      "\n",
      "Increase the number of iterations (max_iter) or scale the data as shown in:\n",
      "    https://scikit-learn.org/stable/modules/preprocessing.html\n",
      "Please also refer to the documentation for alternative solver options:\n",
      "    https://scikit-learn.org/stable/modules/linear_model.html#logistic-regression\n",
      "  extra_warning_msg=_LOGISTIC_SOLVER_CONVERGENCE_MSG)\n",
      "/usr/local/lib/python3.6/dist-packages/sklearn/linear_model/_logistic.py:940: ConvergenceWarning: lbfgs failed to converge (status=1):\n",
      "STOP: TOTAL NO. of ITERATIONS REACHED LIMIT.\n",
      "\n",
      "Increase the number of iterations (max_iter) or scale the data as shown in:\n",
      "    https://scikit-learn.org/stable/modules/preprocessing.html\n",
      "Please also refer to the documentation for alternative solver options:\n",
      "    https://scikit-learn.org/stable/modules/linear_model.html#logistic-regression\n",
      "  extra_warning_msg=_LOGISTIC_SOLVER_CONVERGENCE_MSG)\n",
      "/usr/local/lib/python3.6/dist-packages/sklearn/linear_model/_logistic.py:940: ConvergenceWarning: lbfgs failed to converge (status=1):\n",
      "STOP: TOTAL NO. of ITERATIONS REACHED LIMIT.\n",
      "\n",
      "Increase the number of iterations (max_iter) or scale the data as shown in:\n",
      "    https://scikit-learn.org/stable/modules/preprocessing.html\n",
      "Please also refer to the documentation for alternative solver options:\n",
      "    https://scikit-learn.org/stable/modules/linear_model.html#logistic-regression\n",
      "  extra_warning_msg=_LOGISTIC_SOLVER_CONVERGENCE_MSG)\n"
     ]
    },
    {
     "name": "stdout",
     "output_type": "stream",
     "text": [
      "CV accuracy scores: [0.95846154 0.94615385 0.95230769 0.94       0.95076923 0.94769231\n",
      " 0.96461538 0.95384615 0.96153846 0.94761171]\n",
      "CV accuracy: 0.952 +/- 0.007\n",
      "\n",
      "Results for testing set:\n",
      "Accuracy Score: 0.9532\n",
      "\n",
      "Confusion Matrix:\n",
      "[[790  34]\n",
      " [ 42 759]]\n",
      "\n",
      "1.5889678490000279\n"
     ]
    },
    {
     "name": "stderr",
     "output_type": "stream",
     "text": [
      "/usr/local/lib/python3.6/dist-packages/sklearn/linear_model/_logistic.py:940: ConvergenceWarning: lbfgs failed to converge (status=1):\n",
      "STOP: TOTAL NO. of ITERATIONS REACHED LIMIT.\n",
      "\n",
      "Increase the number of iterations (max_iter) or scale the data as shown in:\n",
      "    https://scikit-learn.org/stable/modules/preprocessing.html\n",
      "Please also refer to the documentation for alternative solver options:\n",
      "    https://scikit-learn.org/stable/modules/linear_model.html#logistic-regression\n",
      "  extra_warning_msg=_LOGISTIC_SOLVER_CONVERGENCE_MSG)\n"
     ]
    }
   ],
   "source": [
    "log_reg_ = LogisticRegression(solver='lbfgs')\n",
    "log_reg_.fit(X_train,y_train)\n",
    "score(log_reg_, X_train, y_train, X_test, y_test) # it's wrong approach because the features are not ordinal."
   ]
  },
  {
   "cell_type": "markdown",
   "metadata": {
    "id": "bvfBHXl5M2Xw"
   },
   "source": [
    "# SVM"
   ]
  },
  {
   "cell_type": "code",
   "execution_count": null,
   "metadata": {
    "colab": {
     "base_uri": "https://localhost:8080/",
     "height": 326
    },
    "id": "9vN269AwM3nM",
    "outputId": "2e7d0d32-b77e-4073-b59f-a71b6691193c"
   },
   "outputs": [
    {
     "name": "stdout",
     "output_type": "stream",
     "text": [
      "Results for training set:\n",
      "Accuracy Score: 0.9965\n",
      "\n",
      "Confusion Matrix:\n",
      "[[3394    0]\n",
      " [  23 3082]]\n",
      "\n",
      "CV accuracy scores: [0.99692308 0.99846154 0.99692308 0.99692308 0.99846154 0.99076923\n",
      " 0.99538462 0.99846154 0.99384615 0.99691834]\n",
      "CV accuracy: 0.996 +/- 0.002\n",
      "\n",
      "Results for testing set:\n",
      "Accuracy Score: 0.9969\n",
      "\n",
      "Confusion Matrix:\n",
      "[[814   0]\n",
      " [  5 806]]\n",
      "\n",
      "9.359997006999947\n"
     ]
    }
   ],
   "source": [
    "SVM = SVC(random_state=101, gamma='auto') # as default SVM uses rbf kernel; gamma is the kernel coefficient (1/sigma^2) and 'auto' uses 1 / n_features as gamma\n",
    "SVM.fit(X_train_ohe,y_train_ohe)\n",
    "score(SVM, X_train_ohe, y_train_ohe, X_test_ohe, y_test_ohe)"
   ]
  },
  {
   "cell_type": "markdown",
   "metadata": {
    "id": "hcCpE07Vspdp"
   },
   "source": [
    "# Determining feature importance (LE) to enhance the DT, RF and KNN (Hamming distance) performances (their computational time)"
   ]
  },
  {
   "cell_type": "code",
   "execution_count": null,
   "metadata": {
    "colab": {
     "base_uri": "https://localhost:8080/",
     "height": 926
    },
    "id": "fcH4iaUes0qL",
    "outputId": "59c65dd5-0443-460e-aee0-8ed2dd0b5a6c"
   },
   "outputs": [
    {
     "name": "stdout",
     "output_type": "stream",
     "text": [
      " 1) odor                           0.159596\n",
      " 2) gill-size                      0.112328\n",
      " 3) gill-color                     0.107148\n",
      " 4) spore-print-color              0.100870\n",
      " 5) ring-type                      0.080512\n",
      " 6) population                     0.062549\n",
      " 7) stalk-root                     0.057628\n",
      " 8) bruises                        0.052510\n",
      " 9) stalk-surface-above-ring       0.046774\n",
      "10) gill-spacing                   0.046203\n",
      "11) stalk-surface-below-ring       0.043709\n",
      "12) habitat                        0.031425\n",
      "13) stalk-shape                    0.020278\n",
      "14) cap-color                      0.015407\n",
      "15) stalk-color-above-ring         0.014416\n",
      "16) stalk-color-below-ring         0.014291\n",
      "17) ring-number                    0.012933\n",
      "18) cap-surface                    0.010359\n",
      "19) cap-shape                      0.005135\n",
      "20) gill-attachment                0.003386\n",
      "21) veil-color                     0.002543\n"
     ]
    },
    {
     "data": {
      "image/png": "[encoded data removed]",
      "text/plain": [
       "<Figure size 792x576 with 1 Axes>"
      ]
     },
     "metadata": {
      "tags": []
     },
     "output_type": "display_data"
    }
   ],
   "source": [
    "feat_labels = df.columns.drop('class')\n",
    "forest_ = RandomForestClassifier(n_estimators=500, random_state=1)\n",
    "forest_.fit(X_train, y_train)\n",
    "importances = forest_.feature_importances_\n",
    "indices = np.argsort(importances)[::-1]\n",
    "for f in range(X_train.shape[1]):\n",
    "  print(\"%2d) %-*s %f\" % (f + 1, 30, feat_labels[indices[f]], importances[indices[f]]))\n",
    "plt.figure(figsize=(11,8))\n",
    "plt.title('Feature Importance')\n",
    "plt.bar(range(X_train.shape[1]), importances[indices], align='center')\n",
    "plt.xticks(range(X_train.shape[1]), feat_labels, rotation=90)\n",
    "plt.xlim([-1, X_train.shape[1]])\n",
    "plt.tight_layout()\n",
    "plt.show()"
   ]
  },
  {
   "cell_type": "code",
   "execution_count": null,
   "metadata": {
    "id": "rFxsEgZE6jvw"
   },
   "outputs": [],
   "source": [
    "sfm = SelectFromModel(forest_, threshold=0.04, prefit=True) # choosing first 10 features\n",
    "X_train_fi = sfm.transform(X_train)\n",
    "X_test_fi = sfm.transform(X_test)"
   ]
  },
  {
   "cell_type": "code",
   "execution_count": null,
   "metadata": {
    "colab": {
     "base_uri": "https://localhost:8080/",
     "height": 310
    },
    "id": "tKh6wXRz-1t9",
    "outputId": "226f3166-6400-4131-9877-b525f283b289"
   },
   "outputs": [
    {
     "name": "stdout",
     "output_type": "stream",
     "text": [
      "Results for training set:\n",
      "Accuracy Score: 1.0000\n",
      "\n",
      "Confusion Matrix:\n",
      "[[3359    0]\n",
      " [   0 3140]]\n",
      "\n",
      "CV accuracy scores: [1. 1. 1. 1. 1. 1. 1. 1. 1. 1.]\n",
      "CV accuracy: 1.000 +/- 0.000\n",
      "\n",
      "Results for testing set:\n",
      "Accuracy Score: 1.0000\n",
      "\n",
      "Confusion Matrix:\n",
      "[[849   0]\n",
      " [  0 776]]\n",
      "\n",
      "0.10663492200001201\n"
     ]
    }
   ],
   "source": [
    "tree_fi = DecisionTreeClassifier(criterion='gini',random_state=101)\n",
    "tree_fi.fit(X_train_fi,y_train)\n",
    "score(tree_fi, X_train_fi, y_train, X_test_fi, y_test)"
   ]
  },
  {
   "cell_type": "markdown",
   "metadata": {
    "id": "Q1Mb6iQiy8_s"
   },
   "source": [
    "We can see that it outperforms the previous DT model when it comes to the computation time, which is 2 times faster, while remaining the same lavel of accuracy."
   ]
  },
  {
   "cell_type": "code",
   "execution_count": null,
   "metadata": {
    "colab": {
     "base_uri": "https://localhost:8080/",
     "height": 310
    },
    "id": "k5oczH-__WUB",
    "outputId": "e510aba7-8641-4371-bc2a-97e4bb1d8f96"
   },
   "outputs": [
    {
     "name": "stdout",
     "output_type": "stream",
     "text": [
      "Results for training set:\n",
      "Accuracy Score: 1.0000\n",
      "\n",
      "Confusion Matrix:\n",
      "[[3359    0]\n",
      " [   0 3140]]\n",
      "\n",
      "CV accuracy scores: [1. 1. 1. 1. 1. 1. 1. 1. 1. 1.]\n",
      "CV accuracy: 1.000 +/- 0.000\n",
      "\n",
      "Results for testing set:\n",
      "Accuracy Score: 1.0000\n",
      "\n",
      "Confusion Matrix:\n",
      "[[849   0]\n",
      " [  0 776]]\n",
      "\n",
      "0.38183941700003743\n"
     ]
    }
   ],
   "source": [
    "forest_fi = RandomForestClassifier(n_estimators = 10, criterion = 'entropy', random_state = 101)\n",
    "forest_fi.fit(X_train_fi, y_train)\n",
    "score(forest_fi, X_train_fi, y_train, X_test_fi, y_test)"
   ]
  },
  {
   "cell_type": "markdown",
   "metadata": {
    "id": "7BYlqUMfzT-_"
   },
   "source": [
    "When it comes to the RF classifier, reducing dimensionality did not really enhance the performance computation timewise."
   ]
  },
  {
   "cell_type": "code",
   "execution_count": null,
   "metadata": {
    "colab": {
     "base_uri": "https://localhost:8080/",
     "height": 310
    },
    "id": "POloDWefyzFL",
    "outputId": "eaec4461-16c9-4560-eea7-eeea138e889e"
   },
   "outputs": [
    {
     "name": "stdout",
     "output_type": "stream",
     "text": [
      "Results for training set:\n",
      "Accuracy Score: 1.0000\n",
      "\n",
      "Confusion Matrix:\n",
      "[[3359    0]\n",
      " [   0 3140]]\n",
      "\n",
      "CV accuracy scores: [1. 1. 1. 1. 1. 1. 1. 1. 1. 1.]\n",
      "CV accuracy: 1.000 +/- 0.000\n",
      "\n",
      "Results for testing set:\n",
      "Accuracy Score: 1.0000\n",
      "\n",
      "Confusion Matrix:\n",
      "[[849   0]\n",
      " [  0 776]]\n",
      "\n",
      "3.639770265999914\n"
     ]
    }
   ],
   "source": [
    "neighbors_fi = KNN(metric='hamming')\n",
    "neighbors_fi.fit(X_train_fi,y_train)\n",
    "score(neighbors_fi, X_train_fi, y_train, X_test_fi, y_test)"
   ]
  },
  {
   "cell_type": "markdown",
   "metadata": {
    "id": "nm2deyQo5D_8"
   },
   "source": [
    "Just as the DT classifier, KNN (for LEncoded features with Hamming distance) for the set with reduced dimensionality performed better when it comes to computation time."
   ]
  },
  {
   "cell_type": "markdown",
   "metadata": {
    "id": "HDkGIKhdmLF0"
   },
   "source": [
    "# Grid Search (SVM and LR)"
   ]
  },
  {
   "cell_type": "markdown",
   "metadata": {
    "id": "EVatUgc24Gwt"
   },
   "source": [
    "SVM"
   ]
  },
  {
   "cell_type": "code",
   "execution_count": null,
   "metadata": {
    "colab": {
     "base_uri": "https://localhost:8080/",
     "height": 118
    },
    "id": "Vvnx5mBBmSSp",
    "outputId": "acce8823-9e43-45ba-fc87-338f26a193d0"
   },
   "outputs": [
    {
     "name": "stderr",
     "output_type": "stream",
     "text": [
      "/usr/local/lib/python3.6/dist-packages/joblib/externals/loky/process_executor.py:706: UserWarning: A worker stopped while some jobs were given to the executor. This can be caused by a too short worker timeout or by a memory leak.\n",
      "  \"timeout or by a memory leak.\", UserWarning\n"
     ]
    },
    {
     "name": "stdout",
     "output_type": "stream",
     "text": [
      "364.30396130200006\n",
      "1.0\n",
      "{'C': 1.0, 'kernel': 'linear'}\n"
     ]
    }
   ],
   "source": [
    "param_range_SVM = [0.01, 0.1, 1.0, 10.0, 100.0] # C is the regularization parameter. The strength of the regularization is inversely proportional to C\n",
    "                                                \n",
    "param_grid_SVM = [{'C': param_range_SVM,'kernel': ['linear']}, \n",
    "              #{'C': param_range_SVM,'gamma': param_range_SVM, 'kernel': ['poly']}, \n",
    "              #{'C': param_range_SVM,'gamma': param_range_SVM, 'kernel': ['sigmoid']}, these took to long to compute so I gave them up\n",
    "              {'C': param_range_SVM,'gamma': param_range_SVM, 'kernel': ['rbf']}] #it creates its own validation set within the function\n",
    "start = default_timer()\n",
    "GS_SVM = GridSearchCV(estimator=SVC(), param_grid=param_grid_SVM, scoring='accuracy', cv=5, n_jobs=-1) # cv specifies the number of folds in a (Stratified)KFold (stratified is used if the estimator is a classifier, otherwise it's kfold)\n",
    "GS_SVM.fit(X_train_ohe, y_train_ohe)\n",
    "end = default_timer()\n",
    "print(end - start)\n",
    "print(GS_SVM.best_score_)\n",
    "print(GS_SVM.best_params_)"
   ]
  },
  {
   "cell_type": "code",
   "execution_count": null,
   "metadata": {
    "colab": {
     "base_uri": "https://localhost:8080/",
     "height": 310
    },
    "id": "pxFauMtMu5Ps",
    "outputId": "1c259540-ffd2-41ea-a33f-c21cba39961a"
   },
   "outputs": [
    {
     "name": "stdout",
     "output_type": "stream",
     "text": [
      "Results for training set:\n",
      "Accuracy Score: 1.0000\n",
      "\n",
      "Confusion Matrix:\n",
      "[[3366    0]\n",
      " [   0 3133]]\n",
      "\n",
      "CV accuracy scores: [1. 1. 1. 1. 1. 1. 1. 1. 1. 1.]\n",
      "CV accuracy: 1.000 +/- 0.000\n",
      "\n",
      "Results for testing set:\n",
      "Accuracy Score: 1.0000\n",
      "\n",
      "Confusion Matrix:\n",
      "[[842   0]\n",
      " [  0 783]]\n",
      "\n",
      "3.0241145529998903\n"
     ]
    }
   ],
   "source": [
    "SVM = SVC(random_state=101, C=1.0, kernel='linear')\n",
    "SVM.fit(X_train_ohe,y_train_ohe)\n",
    "score(SVM, X_train_ohe, y_train_ohe, X_test_ohe, y_test_ohe)"
   ]
  },
  {
   "cell_type": "markdown",
   "metadata": {
    "id": "Il8xX4vT5kRz"
   },
   "source": [
    "Not only did GridSearch help us enhance the accuracy scores, but also the computation time of the model got shorter."
   ]
  },
  {
   "cell_type": "markdown",
   "metadata": {
    "id": "vRlNm1dZ4JiP"
   },
   "source": [
    "LR"
   ]
  },
  {
   "cell_type": "code",
   "execution_count": null,
   "metadata": {
    "colab": {
     "base_uri": "https://localhost:8080/",
     "height": 66
    },
    "id": "RWUTU7Zv4KCm",
    "outputId": "7f4aa12e-5f01-40cb-b49e-5799460ac155"
   },
   "outputs": [
    {
     "name": "stdout",
     "output_type": "stream",
     "text": [
      "19.9194964469998\n",
      "1.0\n",
      "{'C': 10.0, 'solver': 'liblinear'}\n"
     ]
    }
   ],
   "source": [
    "param_range_LR = [0.001, 0.01, 0.1, 1.0, 10.0]\n",
    "param_grid_LR = [{'C': param_range_LR, 'solver': ['liblinear']}, \n",
    "                 {'C': param_range_LR, 'penalty': ['l1', 'l2'], 'solver': ['saga']}, \n",
    "                 {'C': param_range_LR, 'penalty': ['l2'], 'solver': ['lbfgs']}]\n",
    "start = default_timer()\n",
    "GS_LR = GridSearchCV(estimator=LogisticRegression(), param_grid=param_grid_LR, scoring='accuracy', cv=5, n_jobs=-1)\n",
    "GS_LR.fit(X_train_ohe, y_train_ohe)\n",
    "end = default_timer()\n",
    "print(end - start)\n",
    "print(GS_LR.best_score_)\n",
    "print(GS_LR.best_params_)"
   ]
  },
  {
   "cell_type": "code",
   "execution_count": null,
   "metadata": {
    "colab": {
     "base_uri": "https://localhost:8080/",
     "height": 310
    },
    "id": "Zu8RMUBGKFc5",
    "outputId": "f1c54a8e-6762-4bd0-e9d5-abc8a2979260"
   },
   "outputs": [
    {
     "name": "stdout",
     "output_type": "stream",
     "text": [
      "Results for training set:\n",
      "Accuracy Score: 1.0000\n",
      "\n",
      "Confusion Matrix:\n",
      "[[3366    0]\n",
      " [   0 3133]]\n",
      "\n",
      "CV accuracy scores: [1. 1. 1. 1. 1. 1. 1. 1. 1. 1.]\n",
      "CV accuracy: 1.000 +/- 0.000\n",
      "\n",
      "Results for testing set:\n",
      "Accuracy Score: 1.0000\n",
      "\n",
      "Confusion Matrix:\n",
      "[[842   0]\n",
      " [  0 783]]\n",
      "\n",
      "0.7020596959998784\n"
     ]
    }
   ],
   "source": [
    "log_reg = LogisticRegression(solver='liblinear', C=10.0)\n",
    "log_reg.fit(X_train_ohe,y_train_ohe)\n",
    "score(log_reg, X_train_ohe, y_train_ohe, X_test_ohe, y_test_ohe)"
   ]
  },
  {
   "cell_type": "markdown",
   "metadata": {
    "id": "fQdSdV4h6RF1"
   },
   "source": [
    "The same goes for LR classifier."
   ]
  },
  {
   "cell_type": "code",
   "execution_count": null,
   "metadata": {
    "id": "iuKHQdRpZtEa"
   },
   "outputs": [],
   "source": []
  }
 ],
 "metadata": {
  "colab": {
   "collapsed_sections": [],
   "name": "mushrooms.ipynb",
   "provenance": []
  },
  "kernelspec": {
   "display_name": "Python 3",
   "language": "python",
   "name": "python3"
  },
  "language_info": {
   "codemirror_mode": {
    "name": "ipython",
    "version": 3
   },
   "file_extension": ".py",
   "mimetype": "text/x-python",
   "name": "python",
   "nbconvert_exporter": "python",
   "pygments_lexer": "ipython3",
   "version": "3.7.3"
  }
 },
 "nbformat": 4,
 "nbformat_minor": 1
}
